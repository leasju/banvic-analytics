{
  "cells": [
    {
      "cell_type": "markdown",
      "metadata": {
        "id": "vnwtam2xob2J"
      },
      "source": [
        "\n",
        "# 🏦 Banvic - EDA & Métricas\n",
        "##### | Elaborado por Julia Leandro\n",
        "#### =============================================================\n",
        "\n",
        "## Conteúdo do Notebook\n",
        "- Inicial\n",
        "    - Importação das bibiliotecas\n",
        "    - Leitura dos dados\n",
        "    - Limpeza e Conversão de Tipos (casting) + API Dólar\n",
        "    - Features/Derivações\n",
        "- Dimensão de Datas (dim_dates)\n",
        "- Análise das Agências\n",
        "- Análise dos Clientes\n",
        "- Análise dos Colaboradores\n",
        "- Análise das Contas\n",
        "- Análise das Propostas de Crédito\n",
        "- Análise das Transações\n",
        "- Integração com Dados Externos - Cotação Dólar USD\n",
        "- KPIs\n",
        "- Exportações de csv\n",
        "\n",
        "#### ============================================================="
      ]
    },
    {
      "cell_type": "markdown",
      "metadata": {
        "id": "dRs_l1nkFUKO"
      },
      "source": [
        "#### Importação das Bibliotecas"
      ]
    },
    {
      "cell_type": "code",
      "execution_count": 431,
      "metadata": {
        "id": "L1xmIhTGpHsQ"
      },
      "outputs": [],
      "source": [
        "# Dados e Manipulação\n",
        "import pandas as pd # Manipulação de dados\n",
        "import seaborn as sns # Visualização de dados\n",
        "import matplotlib.pyplot as plt # Visualização de dados\n",
        "import matplotlib.ticker as mtick # Formatação de Gráficos e Números \n",
        "import numpy as np # Manipulação de dados (par e ímpar)\n",
        "\n",
        "# Tradução de meses\n",
        "import locale \n",
        "locale.setlocale(locale.LC_TIME, \"pt_BR.UTF-8\")\n",
        "\n",
        "# Manipulação de Datas\n",
        "from datetime import datetime, timedelta # Manipulação de datas\n",
        "from pandas.tseries.offsets import DateOffset # Manipulação de datas\n",
        "from pandas.api.types import is_datetime64tz_dtype # Verificação de tipo de dado datetime com timezone\n",
        "\n",
        "# Cotação do Dólar\n",
        "import requests # Requisições HTTP  \n",
        "\n",
        "# Ignorar warnings\n",
        "import warnings\n",
        "warnings.filterwarnings(\"ignore\", category=FutureWarning)"
      ]
    },
    {
      "cell_type": "markdown",
      "metadata": {
        "id": "Id4hQ-c01pcr"
      },
      "source": [
        "#### Leitura dos Dados (csv)"
      ]
    },
    {
      "cell_type": "code",
      "execution_count": 432,
      "metadata": {
        "id": "-IyNmvkV1o98"
      },
      "outputs": [],
      "source": [
        "agencias = pd.read_csv(\"../dados/agencias.csv\")\n",
        "clientes = pd.read_csv(\"../dados/clientes.csv\")\n",
        "colaborador_agencia = pd.read_csv(\"../dados/colaborador_agencia.csv\")\n",
        "colaboradores = pd.read_csv(\"../dados/colaboradores.csv\")\n",
        "contas = pd.read_csv(\"../dados/contas.csv\")\n",
        "propostas_credito = pd.read_csv(\"../dados/propostas_credito.csv\")\n",
        "transacoes = pd.read_csv(\"../dados/transacoes.csv\")"
      ]
    },
    {
      "cell_type": "markdown",
      "metadata": {},
      "source": [
        "#### Limpeza e Conversão de Tipos (Casting) + API Dólar"
      ]
    },
    {
      "cell_type": "markdown",
      "metadata": {},
      "source": [
        "##### Conversões"
      ]
    },
    {
      "cell_type": "code",
      "execution_count": 433,
      "metadata": {},
      "outputs": [],
      "source": [
        "# Conversão datas\n",
        "clientes[\"data_nascimento\"] = pd.to_datetime(clientes[\"data_nascimento\"], errors=\"coerce\")\n",
        "propostas_credito[\"data_entrada_proposta\"] = pd.to_datetime(propostas_credito[\"data_entrada_proposta\"], errors=\"coerce\")\n",
        "contas[\"data_abertura\"] = pd.to_datetime(contas[\"data_abertura\"], errors=\"coerce\")\n",
        "contas[\"data_ultimo_lancamento\"] = pd.to_datetime(contas[\"data_ultimo_lancamento\"], errors=\"coerce\")\n",
        "\n",
        "# Conversão numérica\n",
        "transacoes[\"valor_transacao\"] = pd.to_numeric(transacoes[\"valor_transacao\"], errors=\"coerce\")\n",
        "propostas_credito[\"valor_proposta\"] = pd.to_numeric(propostas_credito[\"valor_proposta\"], errors=\"coerce\")\n",
        "propostas_credito[\"valor_financiamento\"] = pd.to_numeric(propostas_credito[\"valor_financiamento\"], errors=\"coerce\")"
      ]
    },
    {
      "cell_type": "markdown",
      "metadata": {},
      "source": [
        "##### Remoção de duplicatas"
      ]
    },
    {
      "cell_type": "code",
      "execution_count": 434,
      "metadata": {},
      "outputs": [],
      "source": [
        "clientes = clientes.drop_duplicates(\"cod_cliente\") \n",
        "contas = contas.drop_duplicates(\"num_conta\") \n",
        "propostas_credito = propostas_credito.drop_duplicates(\"cod_proposta\")\n",
        "transacoes = transacoes.drop_duplicates(\"cod_transacao\")"
      ]
    },
    {
      "cell_type": "markdown",
      "metadata": {},
      "source": [
        "##### Parsing da coluna data_transacao (ajuste de timezone)"
      ]
    },
    {
      "cell_type": "markdown",
      "metadata": {},
      "source": [
        "Padronização no formato datetime para evitar futuros erros "
      ]
    },
    {
      "cell_type": "code",
      "execution_count": 435,
      "metadata": {},
      "outputs": [],
      "source": [
        "# Renomeando a coluna original para preservar os dados brutos\n",
        "if \"data_transacao_raw\" not in transacoes.columns:\n",
        "    transacoes = transacoes.rename(columns={\"data_transacao\": \"data_transacao_raw\"})\n",
        "\n",
        "# Convertendo direto para datetime \n",
        "s = transacoes[\"data_transacao_raw\"].astype(str).str.strip()\n",
        "dt = pd.to_datetime(s, utc=True, errors=\"coerce\")"
      ]
    },
    {
      "cell_type": "code",
      "execution_count": 436,
      "metadata": {},
      "outputs": [],
      "source": [
        "# FALLBACKS\n",
        "\n",
        "# 1° Fallback: Tratamento de strings que terminam com \"UTC\"\n",
        "mask = dt.isna()\n",
        "if mask.any():\n",
        "    s_fix = s[mask].str.replace(r\"\\sUTC$\", \"+00:00\", regex=True)\n",
        "    dt2 = pd.to_datetime(s_fix, utc=True, errors=\"coerce\")\n",
        "    dt[mask] = dt2\n",
        "\n",
        "# 2° Fallback: Conversão de datas em formato dia/mês/ano\n",
        "mask = dt.isna()\n",
        "if mask.any():\n",
        "    dt3 = pd.to_datetime(s[mask], dayfirst=True, utc=True, errors=\"coerce\")\n",
        "    dt[mask] = dt3"
      ]
    },
    {
      "cell_type": "code",
      "execution_count": 437,
      "metadata": {},
      "outputs": [],
      "source": [
        "# Ajustando a timezone para America/Sao_Paulo e remove a info de fuso\n",
        "dt_local = dt.dt.tz_convert(\"America/Sao_Paulo\").dt.tz_localize(None)"
      ]
    },
    {
      "cell_type": "code",
      "execution_count": 438,
      "metadata": {},
      "outputs": [],
      "source": [
        "# Salvando colunas finais no DataFrame\n",
        "transacoes[\"data_transacao\"] = dt_local\n",
        "transacoes[\"data\"] = transacoes[\"data_transacao\"].dt.normalize()"
      ]
    },
    {
      "cell_type": "code",
      "execution_count": 439,
      "metadata": {},
      "outputs": [
        {
          "name": "stdout",
          "output_type": "stream",
          "text": [
            "NaT restantes em data_transacao: 0\n"
          ]
        }
      ],
      "source": [
        "# Verificação para caso existem valores inválidos (NaT)\n",
        "nat_count = transacoes[\"data_transacao\"].isna().sum()\n",
        "print(f\"NaT restantes em data_transacao: {nat_count}\")\n",
        "if nat_count:\n",
        "    exemplos = transacoes.loc[transacoes[\"data_transacao\"].isna(), \"data_transacao_raw\"].head(10).tolist()\n",
        "    print(\"Exemplos não parseados:\", exemplos)"
      ]
    },
    {
      "cell_type": "markdown",
      "metadata": {},
      "source": [
        "##### API Dólar (Dados Cotação Dólar BCB - Banco Central do Brasil)"
      ]
    },
    {
      "cell_type": "markdown",
      "metadata": {},
      "source": [
        "Request + Filtro"
      ]
    },
    {
      "cell_type": "code",
      "execution_count": 440,
      "metadata": {},
      "outputs": [],
      "source": [
        "# URL\n",
        "base_dados = (\"https://olinda.bcb.gov.br/olinda/servico/PTAX/versao/v1/odata/CotacaoDolarPeriodo(dataInicial=@dataInicial,dataFinalCotacao=@dataFinalCotacao)?@dataInicial='01-01-2022'&@dataFinalCotacao='12-31-2023'&$top=100&$format=json&$select=cotacaoVenda,dataHoraCotacao\")\n",
        "\n",
        "# Requisição e parsing dos dados da API do Banco Central do Brasil (BCB)\n",
        "frames = []\n",
        "url = base_dados\n",
        "while url:\n",
        "    r = requests.get(url).json()\n",
        "    frames.append(pd.DataFrame(r[\"value\"]))\n",
        "    url = r.get(\"@odata.nextLink\") \n",
        "\n",
        "# Registro da última cotação do dia \n",
        "fx = pd.concat(frames, ignore_index=True)\n",
        "fx[\"dataHoraCotacao\"] = pd.to_datetime(fx[\"dataHoraCotacao\"])\n",
        "fx[\"data\"] = fx[\"dataHoraCotacao\"].dt.floor(\"D\")\n",
        "\n",
        "# Tabela diária do câmbio\n",
        "fx_dia = (fx.sort_values(\"dataHoraCotacao\")\n",
        "            .groupby(\"data\", as_index=False)\n",
        "            .agg(usd_ptax=(\"cotacaoVenda\",\"last\")))\n",
        "\n",
        "# Filtro do período selecionado (2022 - 2023)\n",
        "fx_dia = fx_dia.query(\"data >= '2022-01-01' and data <= '2023-12-31'\").copy()"
      ]
    },
    {
      "cell_type": "markdown",
      "metadata": {},
      "source": [
        "#### Features/Derivações"
      ]
    },
    {
      "cell_type": "code",
      "execution_count": 441,
      "metadata": {},
      "outputs": [],
      "source": [
        "clientes[\"idade\"] = datetime.now().year - clientes[\"data_nascimento\"].dt.year \n",
        "\n",
        "transacoes[\"data\"] = transacoes[\"data_transacao\"].dt.normalize()\n",
        "transacoes[\"mes\"] = transacoes[\"data_transacao\"].dt.month\n",
        "transacoes[\"par_impar\"] = transacoes[\"mes\"].apply(lambda x: \"Par\" if x % 2 == 0 else \"Ímpar\")\n",
        "transacoes[\"dia_semana\"] = transacoes[\"data_transacao\"].dt.day_name()"
      ]
    },
    {
      "cell_type": "markdown",
      "metadata": {},
      "source": [
        "#### =============================================================\n",
        "### 📅 Dimensão de datas (`dim_dates`)"
      ]
    },
    {
      "cell_type": "markdown",
      "metadata": {},
      "source": [
        "dim_dates cobre o período de 2010 a 2023"
      ]
    },
    {
      "cell_type": "code",
      "execution_count": 442,
      "metadata": {},
      "outputs": [
        {
          "data": {
            "text/html": [
              "<div>\n",
              "<style scoped>\n",
              "    .dataframe tbody tr th:only-of-type {\n",
              "        vertical-align: middle;\n",
              "    }\n",
              "\n",
              "    .dataframe tbody tr th {\n",
              "        vertical-align: top;\n",
              "    }\n",
              "\n",
              "    .dataframe thead th {\n",
              "        text-align: right;\n",
              "    }\n",
              "</style>\n",
              "<table border=\"1\" class=\"dataframe\">\n",
              "  <thead>\n",
              "    <tr style=\"text-align: right;\">\n",
              "      <th></th>\n",
              "      <th>data</th>\n",
              "      <th>ano</th>\n",
              "      <th>mes</th>\n",
              "      <th>nome_mes</th>\n",
              "      <th>dia</th>\n",
              "      <th>dia_semana</th>\n",
              "      <th>par_impar</th>\n",
              "    </tr>\n",
              "  </thead>\n",
              "  <tbody>\n",
              "    <tr>\n",
              "      <th>0</th>\n",
              "      <td>2010-02-27 13:39:46</td>\n",
              "      <td>2010</td>\n",
              "      <td>2</td>\n",
              "      <td>fevereiro</td>\n",
              "      <td>27</td>\n",
              "      <td>Saturday</td>\n",
              "      <td>Par</td>\n",
              "    </tr>\n",
              "    <tr>\n",
              "      <th>1</th>\n",
              "      <td>2010-02-28 13:39:46</td>\n",
              "      <td>2010</td>\n",
              "      <td>2</td>\n",
              "      <td>fevereiro</td>\n",
              "      <td>28</td>\n",
              "      <td>Sunday</td>\n",
              "      <td>Par</td>\n",
              "    </tr>\n",
              "    <tr>\n",
              "      <th>2</th>\n",
              "      <td>2010-03-01 13:39:46</td>\n",
              "      <td>2010</td>\n",
              "      <td>3</td>\n",
              "      <td>marÃ§o</td>\n",
              "      <td>1</td>\n",
              "      <td>Monday</td>\n",
              "      <td>Ímpar</td>\n",
              "    </tr>\n",
              "    <tr>\n",
              "      <th>3</th>\n",
              "      <td>2010-03-02 13:39:46</td>\n",
              "      <td>2010</td>\n",
              "      <td>3</td>\n",
              "      <td>marÃ§o</td>\n",
              "      <td>2</td>\n",
              "      <td>Tuesday</td>\n",
              "      <td>Ímpar</td>\n",
              "    </tr>\n",
              "    <tr>\n",
              "      <th>4</th>\n",
              "      <td>2010-03-03 13:39:46</td>\n",
              "      <td>2010</td>\n",
              "      <td>3</td>\n",
              "      <td>marÃ§o</td>\n",
              "      <td>3</td>\n",
              "      <td>Wednesday</td>\n",
              "      <td>Ímpar</td>\n",
              "    </tr>\n",
              "    <tr>\n",
              "      <th>...</th>\n",
              "      <td>...</td>\n",
              "      <td>...</td>\n",
              "      <td>...</td>\n",
              "      <td>...</td>\n",
              "      <td>...</td>\n",
              "      <td>...</td>\n",
              "      <td>...</td>\n",
              "    </tr>\n",
              "    <tr>\n",
              "      <th>4700</th>\n",
              "      <td>2023-01-10 13:39:46</td>\n",
              "      <td>2023</td>\n",
              "      <td>1</td>\n",
              "      <td>janeiro</td>\n",
              "      <td>10</td>\n",
              "      <td>Tuesday</td>\n",
              "      <td>Ímpar</td>\n",
              "    </tr>\n",
              "    <tr>\n",
              "      <th>4701</th>\n",
              "      <td>2023-01-11 13:39:46</td>\n",
              "      <td>2023</td>\n",
              "      <td>1</td>\n",
              "      <td>janeiro</td>\n",
              "      <td>11</td>\n",
              "      <td>Wednesday</td>\n",
              "      <td>Ímpar</td>\n",
              "    </tr>\n",
              "    <tr>\n",
              "      <th>4702</th>\n",
              "      <td>2023-01-12 13:39:46</td>\n",
              "      <td>2023</td>\n",
              "      <td>1</td>\n",
              "      <td>janeiro</td>\n",
              "      <td>12</td>\n",
              "      <td>Thursday</td>\n",
              "      <td>Ímpar</td>\n",
              "    </tr>\n",
              "    <tr>\n",
              "      <th>4703</th>\n",
              "      <td>2023-01-13 13:39:46</td>\n",
              "      <td>2023</td>\n",
              "      <td>1</td>\n",
              "      <td>janeiro</td>\n",
              "      <td>13</td>\n",
              "      <td>Friday</td>\n",
              "      <td>Ímpar</td>\n",
              "    </tr>\n",
              "    <tr>\n",
              "      <th>4704</th>\n",
              "      <td>2023-01-14 13:39:46</td>\n",
              "      <td>2023</td>\n",
              "      <td>1</td>\n",
              "      <td>janeiro</td>\n",
              "      <td>14</td>\n",
              "      <td>Saturday</td>\n",
              "      <td>Ímpar</td>\n",
              "    </tr>\n",
              "  </tbody>\n",
              "</table>\n",
              "<p>4705 rows × 7 columns</p>\n",
              "</div>"
            ],
            "text/plain": [
              "                    data   ano  mes   nome_mes  dia dia_semana par_impar\n",
              "0    2010-02-27 13:39:46  2010    2  fevereiro   27   Saturday       Par\n",
              "1    2010-02-28 13:39:46  2010    2  fevereiro   28     Sunday       Par\n",
              "2    2010-03-01 13:39:46  2010    3     marÃ§o    1     Monday     Ímpar\n",
              "3    2010-03-02 13:39:46  2010    3     marÃ§o    2    Tuesday     Ímpar\n",
              "4    2010-03-03 13:39:46  2010    3     marÃ§o    3  Wednesday     Ímpar\n",
              "...                  ...   ...  ...        ...  ...        ...       ...\n",
              "4700 2023-01-10 13:39:46  2023    1    janeiro   10    Tuesday     Ímpar\n",
              "4701 2023-01-11 13:39:46  2023    1    janeiro   11  Wednesday     Ímpar\n",
              "4702 2023-01-12 13:39:46  2023    1    janeiro   12   Thursday     Ímpar\n",
              "4703 2023-01-13 13:39:46  2023    1    janeiro   13     Friday     Ímpar\n",
              "4704 2023-01-14 13:39:46  2023    1    janeiro   14   Saturday     Ímpar\n",
              "\n",
              "[4705 rows x 7 columns]"
            ]
          },
          "execution_count": 442,
          "metadata": {},
          "output_type": "execute_result"
        }
      ],
      "source": [
        "# Definindo o periódo mínimo e máximo do dataset\n",
        "data_min = transacoes[\"data_transacao\"].min()\n",
        "data_max = transacoes[\"data_transacao\"].max()\n",
        "\n",
        "# Intervalo de datas\n",
        "dim_dates = pd.DataFrame({\"data\": pd.date_range(start=data_min, end=data_max)})\n",
        "\n",
        "# Criação das colunas da dim_dates\n",
        "dim_dates[\"ano\"] = dim_dates[\"data\"].dt.year\n",
        "dim_dates[\"mes\"] = dim_dates[\"data\"].dt.month\n",
        "dim_dates[\"nome_mes\"] = dim_dates[\"data\"].dt.month_name()\n",
        "dim_dates[\"nome_mes\"] = dim_dates[\"data\"].dt.strftime(\"%B\")\n",
        "dim_dates[\"dia\"] = dim_dates[\"data\"].dt.day\n",
        "dim_dates[\"dia_semana\"] = dim_dates[\"data\"].dt.day_name()\n",
        "dim_dates[\"par_impar\"] = dim_dates[\"mes\"].apply(lambda x: \"Par\" if x % 2 == 0 else \"Ímpar\")\n",
        "\n",
        "dim_dates"
      ]
    },
    {
      "cell_type": "markdown",
      "metadata": {},
      "source": [
        "#### =============================================================\n",
        "### 🪙 Agencias"
      ]
    },
    {
      "cell_type": "markdown",
      "metadata": {
        "id": "E1YaAnoj2qcc"
      },
      "source": [
        "#### Checagem de nulos"
      ]
    },
    {
      "cell_type": "code",
      "execution_count": 443,
      "metadata": {
        "colab": {
          "base_uri": "https://localhost:8080/",
          "height": 304
        },
        "id": "fOqcptYs2r2O",
        "outputId": "6b979304-6beb-477b-b462-31398e753966"
      },
      "outputs": [
        {
          "data": {
            "text/plain": [
              "cod_agencia      0\n",
              "nome             0\n",
              "endereco         0\n",
              "cidade           0\n",
              "uf               0\n",
              "data_abertura    0\n",
              "tipo_agencia     0\n",
              "dtype: int64"
            ]
          },
          "execution_count": 443,
          "metadata": {},
          "output_type": "execute_result"
        }
      ],
      "source": [
        "agencias.isnull().sum()"
      ]
    },
    {
      "cell_type": "markdown",
      "metadata": {},
      "source": [
        "#### Exploração inicial"
      ]
    },
    {
      "cell_type": "code",
      "execution_count": 444,
      "metadata": {},
      "outputs": [
        {
          "data": {
            "text/plain": [
              "Index(['cod_agencia', 'nome', 'endereco', 'cidade', 'uf', 'data_abertura',\n",
              "       'tipo_agencia'],\n",
              "      dtype='object')"
            ]
          },
          "execution_count": 444,
          "metadata": {},
          "output_type": "execute_result"
        }
      ],
      "source": [
        "# agencias.info()\n",
        "agencias.describe()\n",
        "agencias.columns"
      ]
    },
    {
      "cell_type": "markdown",
      "metadata": {
        "id": "j1i0Dryc-3yW"
      },
      "source": [
        "#### Identificação do estado com mais agências"
      ]
    },
    {
      "cell_type": "code",
      "execution_count": 445,
      "metadata": {
        "colab": {
          "base_uri": "https://localhost:8080/",
          "height": 272
        },
        "id": "FGQZ6tmbqBEa",
        "outputId": "c8256a03-eb0d-479c-e9b6-3d9da91f77ab"
      },
      "outputs": [
        {
          "name": "stdout",
          "output_type": "stream",
          "text": [
            "O estado com mais agências é SP com 6 agências.\n"
          ]
        }
      ],
      "source": [
        "agencias[\"uf\"].value_counts() \n",
        "print(f\"O estado com mais agências é {agencias['uf'].value_counts().idxmax()} com {agencias['uf'].value_counts().max()} agências.\")"
      ]
    },
    {
      "cell_type": "markdown",
      "metadata": {
        "id": "I6iJSYtc-7RG"
      },
      "source": [
        "#### Ranking das Agências por volume de transações"
      ]
    },
    {
      "cell_type": "code",
      "execution_count": 446,
      "metadata": {
        "id": "ybvyBt4M-90D"
      },
      "outputs": [],
      "source": [
        "# Merge transacoes com contas para obter cod_agencia\n",
        "transacoes_conta = transacoes.merge(contas[[\"num_conta\", \"cod_agencia\"]], on=\"num_conta\", how=\"inner\")\n",
        "\n",
        "# Merge transacoes_conta com agências para obter nome da agencia\n",
        "transacoes_conta_agencia = transacoes_conta.merge(agencias[[\"cod_agencia\", \"nome\"]], on=\"cod_agencia\", how=\"left\")\n",
        "\n",
        "# Contagem de transações por agência\n",
        "transacoes_agencia = (transacoes_conta_agencia.groupby(\"nome\")[\"cod_transacao\"].count().sort_values(ascending=False))"
      ]
    },
    {
      "cell_type": "code",
      "execution_count": 447,
      "metadata": {
        "colab": {
          "base_uri": "https://localhost:8080/"
        },
        "id": "LKfE4Zj-BLIV",
        "outputId": "cf9111fa-9141-4841-e393-5f81bb9f4519"
      },
      "outputs": [
        {
          "name": "stdout",
          "output_type": "stream",
          "text": [
            "RANKING AGÊNCIAS\n",
            "\n",
            "Top 3 Melhores agências: Agência Digital, Agência Matriz, Agência Tatuapé\n",
            "\n",
            "Top 3 Piores Agências: Agência Florianópolis, Agência Jardins, Agência Recife\n"
          ]
        }
      ],
      "source": [
        "tres_melhores = transacoes_agencia.head(3)\n",
        "tres_piores = transacoes_agencia.tail(3)\n",
        "\n",
        "print(\n",
        "    f\"RANKING AGÊNCIAS\\n\\n\"\n",
        "    f\"Top 3 Melhores agências: {', '.join(tres_melhores.index)}\\n\\n\"\n",
        "    f\"Top 3 Piores Agências: {', '.join(tres_piores.index)}\"\n",
        ")"
      ]
    },
    {
      "cell_type": "markdown",
      "metadata": {},
      "source": [
        "Criação da base \"ranking_agencias\""
      ]
    },
    {
      "cell_type": "code",
      "execution_count": 448,
      "metadata": {},
      "outputs": [],
      "source": [
        "ranking_agencias = (transacoes_conta_agencia.groupby(\"nome\", as_index=False).agg(qtd_transacoes=(\"cod_transacao\",\"count\"),valor_total=(\"valor_transacao\",\"sum\")).sort_values(\"qtd_transacoes\", ascending=False))"
      ]
    },
    {
      "cell_type": "markdown",
      "metadata": {},
      "source": [
        "#### Ranking das Agências por volume de transações (Últimos 6 MESES)"
      ]
    },
    {
      "cell_type": "markdown",
      "metadata": {},
      "source": [
        "Inserindo os limites de data"
      ]
    },
    {
      "cell_type": "code",
      "execution_count": 449,
      "metadata": {},
      "outputs": [],
      "source": [
        "data_max = transacoes[\"data_transacao\"].max()\n",
        "limite_6m = data_max - DateOffset(months=6)\n",
        "\n",
        "transacoes_6m = transacoes[transacoes[\"data_transacao\"] >= limite_6m]"
      ]
    },
    {
      "cell_type": "markdown",
      "metadata": {},
      "source": [
        "Junções(merge)"
      ]
    },
    {
      "cell_type": "code",
      "execution_count": 450,
      "metadata": {},
      "outputs": [],
      "source": [
        "# Merge transacoes_6m com contas para obter cod_agencia\n",
        "transacoes_conta_6m = transacoes_6m.merge(contas[[\"num_conta\", \"cod_agencia\"]], on=\"num_conta\", how=\"inner\")\n",
        "\n",
        "# Merge transacoes_conta_6m com agencias para obter nome da agencia\n",
        "transacoes_conta_agencia_6m = transacoes_conta_6m.merge(agencias[[\"cod_agencia\", \"nome\"]], on=\"cod_agencia\", how=\"left\")"
      ]
    },
    {
      "cell_type": "markdown",
      "metadata": {},
      "source": [
        "Rankeando as agências (6 meses)"
      ]
    },
    {
      "cell_type": "code",
      "execution_count": 451,
      "metadata": {},
      "outputs": [
        {
          "name": "stdout",
          "output_type": "stream",
          "text": [
            "RANKING AGÊNCIAS (6 meses)\n",
            "\n",
            "Top 3 Melhores agências: Agência Digital, Agência Matriz, Agência Tatuapé\n",
            "\n",
            "Top 3 Piores Agências: Agência Florianópolis, Agência Jardins, Agência Recife\n"
          ]
        }
      ],
      "source": [
        "qtde_6m = (transacoes_conta_agencia_6m.groupby(\"nome\")[\"cod_transacao\"].count().sort_values(ascending=False))\n",
        "valor_6m = (transacoes_conta_agencia_6m.groupby(\"nome\")[\"valor_transacao\"].sum().sort_values(ascending=False))\n",
        "\n",
        "tres_melhores_6m = qtde_6m.head(3)\n",
        "tres_piores_6m = qtde_6m.tail(3)\n",
        "\n",
        "print(\n",
        "    f\"RANKING AGÊNCIAS (6 meses)\\n\\n\"\n",
        "    f\"Top 3 Melhores agências: {', '.join(tres_melhores_6m.index)}\\n\\n\"\n",
        "    f\"Top 3 Piores Agências: {', '.join(tres_piores_6m.index)}\"\n",
        ")"
      ]
    },
    {
      "cell_type": "markdown",
      "metadata": {},
      "source": [
        "Criação da base \"ranking_agencias_6m\""
      ]
    },
    {
      "cell_type": "code",
      "execution_count": 452,
      "metadata": {},
      "outputs": [],
      "source": [
        "\n",
        "ranking_agencias_6m = (transacoes_conta_agencia_6m.groupby(\"nome\", as_index=False).agg(qtd_transacoes=(\"cod_transacao\",\"count\"),valor_total=(\"valor_transacao\",\"sum\")).sort_values(\"qtd_transacoes\", ascending=False))"
      ]
    },
    {
      "cell_type": "markdown",
      "metadata": {
        "id": "2k4HlLyizcud"
      },
      "source": [
        "#### =============================================================\n",
        "### 🚹 Clientes"
      ]
    },
    {
      "cell_type": "markdown",
      "metadata": {
        "id": "zUB6igrW2xf1"
      },
      "source": [
        "#### Checagem de nulos"
      ]
    },
    {
      "cell_type": "code",
      "execution_count": 453,
      "metadata": {
        "colab": {
          "base_uri": "https://localhost:8080/",
          "height": 398
        },
        "id": "pv5JZWBk2yyJ",
        "outputId": "6d2f677f-66fd-4289-e326-d3f3623d4aa1"
      },
      "outputs": [
        {
          "data": {
            "text/plain": [
              "cod_cliente        0\n",
              "primeiro_nome      0\n",
              "ultimo_nome        0\n",
              "email              0\n",
              "tipo_cliente       0\n",
              "data_inclusao      0\n",
              "cpfcnpj            0\n",
              "data_nascimento    0\n",
              "endereco           0\n",
              "cep                0\n",
              "idade              0\n",
              "dtype: int64"
            ]
          },
          "execution_count": 453,
          "metadata": {},
          "output_type": "execute_result"
        }
      ],
      "source": [
        "clientes.isnull().sum()"
      ]
    },
    {
      "cell_type": "markdown",
      "metadata": {},
      "source": [
        "#### Exploração inicial "
      ]
    },
    {
      "cell_type": "code",
      "execution_count": 454,
      "metadata": {
        "colab": {
          "base_uri": "https://localhost:8080/"
        },
        "id": "72ZxMLM1qJpj",
        "outputId": "8ff118b4-296a-4485-f087-24cfa7dc6b0c"
      },
      "outputs": [
        {
          "data": {
            "text/plain": [
              "Index(['cod_cliente', 'primeiro_nome', 'ultimo_nome', 'email', 'tipo_cliente',\n",
              "       'data_inclusao', 'cpfcnpj', 'data_nascimento', 'endereco', 'cep',\n",
              "       'idade'],\n",
              "      dtype='object')"
            ]
          },
          "execution_count": 454,
          "metadata": {},
          "output_type": "execute_result"
        }
      ],
      "source": [
        "# clientes.info()\n",
        "clientes.describe()\n",
        "clientes.columns"
      ]
    },
    {
      "cell_type": "markdown",
      "metadata": {
        "id": "nuRlYf3T0SIC"
      },
      "source": [
        "#### Análise de distribuição por idade\n"
      ]
    },
    {
      "cell_type": "code",
      "execution_count": 455,
      "metadata": {
        "colab": {
          "base_uri": "https://localhost:8080/",
          "height": 335
        },
        "id": "evAXyhcY0b-B",
        "outputId": "8755002b-dc3e-450e-bc6f-e10eb55fff6e"
      },
      "outputs": [
        {
          "data": {
            "text/plain": [
              "count    998.000000\n",
              "mean      50.929860\n",
              "std       18.757896\n",
              "min       18.000000\n",
              "25%       35.000000\n",
              "50%       51.000000\n",
              "75%       68.000000\n",
              "max       83.000000\n",
              "Name: idade, dtype: float64"
            ]
          },
          "execution_count": 455,
          "metadata": {},
          "output_type": "execute_result"
        }
      ],
      "source": [
        "clientes[\"data_nascimento\"] = pd.to_datetime(clientes[\"data_nascimento\"])\n",
        "\n",
        "clientes[\"idade\"].describe() # Faixa etária"
      ]
    },
    {
      "cell_type": "markdown",
      "metadata": {},
      "source": [
        "Visualização dos dados"
      ]
    },
    {
      "cell_type": "code",
      "execution_count": 456,
      "metadata": {
        "colab": {
          "base_uri": "https://localhost:8080/",
          "height": 472
        },
        "id": "yflxnmWU3BZQ",
        "outputId": "31cb6169-aa5e-44b4-827f-660fe7761fc8"
      },
      "outputs": [
        {
          "data": {
            "image/png": "[encoded data removed]",
            "text/plain": [
              "<Figure size 640x480 with 1 Axes>"
            ]
          },
          "metadata": {},
          "output_type": "display_data"
        }
      ],
      "source": [
        "sns.histplot(data=clientes, x=\"idade\", bins=20, kde=True)\n",
        "plt.title(\"Distribuição de Idade dos Clientes\")\n",
        "plt.xlabel(\"Idade dos Clientes\")\n",
        "plt.ylabel(\"Quantidade de Clientes\")\n",
        "plt.show()"
      ]
    },
    {
      "cell_type": "markdown",
      "metadata": {
        "id": "k0UifKxzMh-I"
      },
      "source": [
        "####  Concentração de clientes por estado"
      ]
    },
    {
      "cell_type": "code",
      "execution_count": 457,
      "metadata": {
        "colab": {
          "base_uri": "https://localhost:8080/",
          "height": 962
        },
        "id": "6sR5ko94KqJ0",
        "outputId": "dd4ad2f4-4579-4b34-84be-3e548b91e770"
      },
      "outputs": [
        {
          "name": "stdout",
          "output_type": "stream",
          "text": [
            "O estado com mais clientes é AM com 53 clientes.\n"
          ]
        }
      ],
      "source": [
        "clientes[\"estado\"] = clientes[\"endereco\"].str.split(\"/\").str[-1].str.strip()\n",
        "clientes[\"estado\"].value_counts()\n",
        "print(f\"O estado com mais clientes é {clientes['estado'].value_counts().idxmax()} com {clientes['estado'].value_counts().max()} clientes.\")"
      ]
    },
    {
      "cell_type": "markdown",
      "metadata": {},
      "source": [
        "#### Junções (merge)"
      ]
    },
    {
      "cell_type": "markdown",
      "metadata": {
        "id": "gwULLwdZ2Ee6"
      },
      "source": [
        "Junção de tabela ``clientes`` com ``propostas_credito``"
      ]
    },
    {
      "cell_type": "code",
      "execution_count": 458,
      "metadata": {
        "colab": {
          "base_uri": "https://localhost:8080/",
          "height": 1000
        },
        "id": "2bDFlhYN2KHa",
        "outputId": "5b19c02c-f114-4a4c-8048-82d35168cf15"
      },
      "outputs": [
        {
          "data": {
            "text/html": [
              "<div>\n",
              "<style scoped>\n",
              "    .dataframe tbody tr th:only-of-type {\n",
              "        vertical-align: middle;\n",
              "    }\n",
              "\n",
              "    .dataframe tbody tr th {\n",
              "        vertical-align: top;\n",
              "    }\n",
              "\n",
              "    .dataframe thead th {\n",
              "        text-align: right;\n",
              "    }\n",
              "</style>\n",
              "<table border=\"1\" class=\"dataframe\">\n",
              "  <thead>\n",
              "    <tr style=\"text-align: right;\">\n",
              "      <th></th>\n",
              "      <th>cod_cliente</th>\n",
              "      <th>primeiro_nome</th>\n",
              "      <th>ultimo_nome</th>\n",
              "      <th>email</th>\n",
              "      <th>tipo_cliente</th>\n",
              "      <th>data_inclusao</th>\n",
              "      <th>cpfcnpj</th>\n",
              "      <th>data_nascimento</th>\n",
              "      <th>endereco</th>\n",
              "      <th>cep</th>\n",
              "      <th>...</th>\n",
              "      <th>cod_colaborador</th>\n",
              "      <th>data_entrada_proposta</th>\n",
              "      <th>taxa_juros_mensal</th>\n",
              "      <th>valor_proposta</th>\n",
              "      <th>valor_financiamento</th>\n",
              "      <th>valor_entrada</th>\n",
              "      <th>valor_prestacao</th>\n",
              "      <th>quantidade_parcelas</th>\n",
              "      <th>carencia</th>\n",
              "      <th>status_proposta</th>\n",
              "    </tr>\n",
              "  </thead>\n",
              "  <tbody>\n",
              "    <tr>\n",
              "      <th>0</th>\n",
              "      <td>28</td>\n",
              "      <td>Sabrina</td>\n",
              "      <td>Dias</td>\n",
              "      <td>moreiraemanuelly@example.org</td>\n",
              "      <td>PF</td>\n",
              "      <td>2017-04-03 16:11:00 UTC</td>\n",
              "      <td>357.081.496-39</td>\n",
              "      <td>2006-08-11</td>\n",
              "      <td>Praia de Duarte Vila Piratininga 81327-166 Fer...</td>\n",
              "      <td>95140-704</td>\n",
              "      <td>...</td>\n",
              "      <td>17</td>\n",
              "      <td>2015-04-03 04:34:11+00:00</td>\n",
              "      <td>0.0106</td>\n",
              "      <td>13056.935827</td>\n",
              "      <td>18009.22</td>\n",
              "      <td>4952.284173</td>\n",
              "      <td>285.157078</td>\n",
              "      <td>63</td>\n",
              "      <td>3</td>\n",
              "      <td>Enviada</td>\n",
              "    </tr>\n",
              "    <tr>\n",
              "      <th>1</th>\n",
              "      <td>28</td>\n",
              "      <td>Sabrina</td>\n",
              "      <td>Dias</td>\n",
              "      <td>moreiraemanuelly@example.org</td>\n",
              "      <td>PF</td>\n",
              "      <td>2017-04-03 16:11:00 UTC</td>\n",
              "      <td>357.081.496-39</td>\n",
              "      <td>2006-08-11</td>\n",
              "      <td>Praia de Duarte Vila Piratininga 81327-166 Fer...</td>\n",
              "      <td>95140-704</td>\n",
              "      <td>...</td>\n",
              "      <td>73</td>\n",
              "      <td>2010-09-02 22:06:54+00:00</td>\n",
              "      <td>0.0212</td>\n",
              "      <td>68031.962747</td>\n",
              "      <td>110541.92</td>\n",
              "      <td>42509.957253</td>\n",
              "      <td>1910.887012</td>\n",
              "      <td>67</td>\n",
              "      <td>6</td>\n",
              "      <td>Enviada</td>\n",
              "    </tr>\n",
              "    <tr>\n",
              "      <th>2</th>\n",
              "      <td>28</td>\n",
              "      <td>Sabrina</td>\n",
              "      <td>Dias</td>\n",
              "      <td>moreiraemanuelly@example.org</td>\n",
              "      <td>PF</td>\n",
              "      <td>2017-04-03 16:11:00 UTC</td>\n",
              "      <td>357.081.496-39</td>\n",
              "      <td>2006-08-11</td>\n",
              "      <td>Praia de Duarte Vila Piratininga 81327-166 Fer...</td>\n",
              "      <td>95140-704</td>\n",
              "      <td>...</td>\n",
              "      <td>87</td>\n",
              "      <td>2018-05-30 16:04:13+00:00</td>\n",
              "      <td>0.0132</td>\n",
              "      <td>139839.834712</td>\n",
              "      <td>240449.39</td>\n",
              "      <td>100609.555288</td>\n",
              "      <td>2861.303123</td>\n",
              "      <td>79</td>\n",
              "      <td>5</td>\n",
              "      <td>Aprovada</td>\n",
              "    </tr>\n",
              "    <tr>\n",
              "      <th>3</th>\n",
              "      <td>674</td>\n",
              "      <td>Luiz Felipe</td>\n",
              "      <td>Dias</td>\n",
              "      <td>pedroferreira@example.org</td>\n",
              "      <td>PF</td>\n",
              "      <td>2021-02-10 13:27:00 UTC</td>\n",
              "      <td>085.196.374-93</td>\n",
              "      <td>1995-10-11</td>\n",
              "      <td>Avenida da Rosa, 654 João Paulo Ii 20295449 Nu...</td>\n",
              "      <td>76516-765</td>\n",
              "      <td>...</td>\n",
              "      <td>29</td>\n",
              "      <td>2020-07-24 15:00:23+00:00</td>\n",
              "      <td>0.0210</td>\n",
              "      <td>94843.853223</td>\n",
              "      <td>140271.31</td>\n",
              "      <td>45427.456777</td>\n",
              "      <td>2363.479287</td>\n",
              "      <td>89</td>\n",
              "      <td>1</td>\n",
              "      <td>Enviada</td>\n",
              "    </tr>\n",
              "    <tr>\n",
              "      <th>4</th>\n",
              "      <td>674</td>\n",
              "      <td>Luiz Felipe</td>\n",
              "      <td>Dias</td>\n",
              "      <td>pedroferreira@example.org</td>\n",
              "      <td>PF</td>\n",
              "      <td>2021-02-10 13:27:00 UTC</td>\n",
              "      <td>085.196.374-93</td>\n",
              "      <td>1995-10-11</td>\n",
              "      <td>Avenida da Rosa, 654 João Paulo Ii 20295449 Nu...</td>\n",
              "      <td>76516-765</td>\n",
              "      <td>...</td>\n",
              "      <td>34</td>\n",
              "      <td>2022-04-23 03:15:25+00:00</td>\n",
              "      <td>0.0236</td>\n",
              "      <td>15301.504986</td>\n",
              "      <td>19535.75</td>\n",
              "      <td>4234.245014</td>\n",
              "      <td>4053.705326</td>\n",
              "      <td>4</td>\n",
              "      <td>3</td>\n",
              "      <td>Aprovada</td>\n",
              "    </tr>\n",
              "    <tr>\n",
              "      <th>...</th>\n",
              "      <td>...</td>\n",
              "      <td>...</td>\n",
              "      <td>...</td>\n",
              "      <td>...</td>\n",
              "      <td>...</td>\n",
              "      <td>...</td>\n",
              "      <td>...</td>\n",
              "      <td>...</td>\n",
              "      <td>...</td>\n",
              "      <td>...</td>\n",
              "      <td>...</td>\n",
              "      <td>...</td>\n",
              "      <td>...</td>\n",
              "      <td>...</td>\n",
              "      <td>...</td>\n",
              "      <td>...</td>\n",
              "      <td>...</td>\n",
              "      <td>...</td>\n",
              "      <td>...</td>\n",
              "      <td>...</td>\n",
              "      <td>...</td>\n",
              "    </tr>\n",
              "    <tr>\n",
              "      <th>1991</th>\n",
              "      <td>845</td>\n",
              "      <td>Pedro Lucas</td>\n",
              "      <td>da Conceição</td>\n",
              "      <td>silveirabruno@example.com</td>\n",
              "      <td>PF</td>\n",
              "      <td>2020-12-16 15:14:00 UTC</td>\n",
              "      <td>347.028.591-88</td>\n",
              "      <td>1943-12-12</td>\n",
              "      <td>Travessa Eloah Moura, 97 Alta Tensão 2ª Seção ...</td>\n",
              "      <td>36211-005</td>\n",
              "      <td>...</td>\n",
              "      <td>38</td>\n",
              "      <td>2012-07-14 02:25:07+00:00</td>\n",
              "      <td>0.0099</td>\n",
              "      <td>149926.136028</td>\n",
              "      <td>217880.51</td>\n",
              "      <td>67954.373972</td>\n",
              "      <td>2328.324613</td>\n",
              "      <td>103</td>\n",
              "      <td>1</td>\n",
              "      <td>Validação documentos</td>\n",
              "    </tr>\n",
              "    <tr>\n",
              "      <th>1992</th>\n",
              "      <td>853</td>\n",
              "      <td>Milena</td>\n",
              "      <td>da Conceição</td>\n",
              "      <td>ribeirodanilo@example.net</td>\n",
              "      <td>PF</td>\n",
              "      <td>2020-11-21 11:32:00 UTC</td>\n",
              "      <td>870.534.912-50</td>\n",
              "      <td>1999-04-22</td>\n",
              "      <td>Feira de Vieira, 1 Planalto 31794137 Rodrigues...</td>\n",
              "      <td>15386938</td>\n",
              "      <td>...</td>\n",
              "      <td>16</td>\n",
              "      <td>2012-06-05 20:29:13+00:00</td>\n",
              "      <td>0.0131</td>\n",
              "      <td>30487.987981</td>\n",
              "      <td>52975.78</td>\n",
              "      <td>22487.792019</td>\n",
              "      <td>823.338389</td>\n",
              "      <td>51</td>\n",
              "      <td>0</td>\n",
              "      <td>Enviada</td>\n",
              "    </tr>\n",
              "    <tr>\n",
              "      <th>1993</th>\n",
              "      <td>853</td>\n",
              "      <td>Milena</td>\n",
              "      <td>da Conceição</td>\n",
              "      <td>ribeirodanilo@example.net</td>\n",
              "      <td>PF</td>\n",
              "      <td>2020-11-21 11:32:00 UTC</td>\n",
              "      <td>870.534.912-50</td>\n",
              "      <td>1999-04-22</td>\n",
              "      <td>Feira de Vieira, 1 Planalto 31794137 Rodrigues...</td>\n",
              "      <td>15386938</td>\n",
              "      <td>...</td>\n",
              "      <td>18</td>\n",
              "      <td>2011-02-18 11:55:27+00:00</td>\n",
              "      <td>0.0087</td>\n",
              "      <td>133575.197230</td>\n",
              "      <td>228888.78</td>\n",
              "      <td>95313.582770</td>\n",
              "      <td>2247.992311</td>\n",
              "      <td>84</td>\n",
              "      <td>2</td>\n",
              "      <td>Enviada</td>\n",
              "    </tr>\n",
              "    <tr>\n",
              "      <th>1994</th>\n",
              "      <td>853</td>\n",
              "      <td>Milena</td>\n",
              "      <td>da Conceição</td>\n",
              "      <td>ribeirodanilo@example.net</td>\n",
              "      <td>PF</td>\n",
              "      <td>2020-11-21 11:32:00 UTC</td>\n",
              "      <td>870.534.912-50</td>\n",
              "      <td>1999-04-22</td>\n",
              "      <td>Feira de Vieira, 1 Planalto 31794137 Rodrigues...</td>\n",
              "      <td>15386938</td>\n",
              "      <td>...</td>\n",
              "      <td>35</td>\n",
              "      <td>2015-10-30 01:22:06+00:00</td>\n",
              "      <td>0.0152</td>\n",
              "      <td>52439.145420</td>\n",
              "      <td>98620.47</td>\n",
              "      <td>46181.324580</td>\n",
              "      <td>964.731237</td>\n",
              "      <td>116</td>\n",
              "      <td>1</td>\n",
              "      <td>Aprovada</td>\n",
              "    </tr>\n",
              "    <tr>\n",
              "      <th>1995</th>\n",
              "      <td>853</td>\n",
              "      <td>Milena</td>\n",
              "      <td>da Conceição</td>\n",
              "      <td>ribeirodanilo@example.net</td>\n",
              "      <td>PF</td>\n",
              "      <td>2020-11-21 11:32:00 UTC</td>\n",
              "      <td>870.534.912-50</td>\n",
              "      <td>1999-04-22</td>\n",
              "      <td>Feira de Vieira, 1 Planalto 31794137 Rodrigues...</td>\n",
              "      <td>15386938</td>\n",
              "      <td>...</td>\n",
              "      <td>56</td>\n",
              "      <td>2015-04-13 04:42:04+00:00</td>\n",
              "      <td>0.0242</td>\n",
              "      <td>43718.451501</td>\n",
              "      <td>67193.24</td>\n",
              "      <td>23474.788499</td>\n",
              "      <td>4574.460078</td>\n",
              "      <td>11</td>\n",
              "      <td>3</td>\n",
              "      <td>Em análise</td>\n",
              "    </tr>\n",
              "  </tbody>\n",
              "</table>\n",
              "<p>1996 rows × 23 columns</p>\n",
              "</div>"
            ],
            "text/plain": [
              "      cod_cliente primeiro_nome   ultimo_nome                         email  \\\n",
              "0              28       Sabrina          Dias  moreiraemanuelly@example.org   \n",
              "1              28       Sabrina          Dias  moreiraemanuelly@example.org   \n",
              "2              28       Sabrina          Dias  moreiraemanuelly@example.org   \n",
              "3             674   Luiz Felipe          Dias     pedroferreira@example.org   \n",
              "4             674   Luiz Felipe          Dias     pedroferreira@example.org   \n",
              "...           ...           ...           ...                           ...   \n",
              "1991          845   Pedro Lucas  da Conceição     silveirabruno@example.com   \n",
              "1992          853        Milena  da Conceição     ribeirodanilo@example.net   \n",
              "1993          853        Milena  da Conceição     ribeirodanilo@example.net   \n",
              "1994          853        Milena  da Conceição     ribeirodanilo@example.net   \n",
              "1995          853        Milena  da Conceição     ribeirodanilo@example.net   \n",
              "\n",
              "     tipo_cliente            data_inclusao         cpfcnpj data_nascimento  \\\n",
              "0              PF  2017-04-03 16:11:00 UTC  357.081.496-39      2006-08-11   \n",
              "1              PF  2017-04-03 16:11:00 UTC  357.081.496-39      2006-08-11   \n",
              "2              PF  2017-04-03 16:11:00 UTC  357.081.496-39      2006-08-11   \n",
              "3              PF  2021-02-10 13:27:00 UTC  085.196.374-93      1995-10-11   \n",
              "4              PF  2021-02-10 13:27:00 UTC  085.196.374-93      1995-10-11   \n",
              "...           ...                      ...             ...             ...   \n",
              "1991           PF  2020-12-16 15:14:00 UTC  347.028.591-88      1943-12-12   \n",
              "1992           PF  2020-11-21 11:32:00 UTC  870.534.912-50      1999-04-22   \n",
              "1993           PF  2020-11-21 11:32:00 UTC  870.534.912-50      1999-04-22   \n",
              "1994           PF  2020-11-21 11:32:00 UTC  870.534.912-50      1999-04-22   \n",
              "1995           PF  2020-11-21 11:32:00 UTC  870.534.912-50      1999-04-22   \n",
              "\n",
              "                                               endereco        cep  ...  \\\n",
              "0     Praia de Duarte Vila Piratininga 81327-166 Fer...  95140-704  ...   \n",
              "1     Praia de Duarte Vila Piratininga 81327-166 Fer...  95140-704  ...   \n",
              "2     Praia de Duarte Vila Piratininga 81327-166 Fer...  95140-704  ...   \n",
              "3     Avenida da Rosa, 654 João Paulo Ii 20295449 Nu...  76516-765  ...   \n",
              "4     Avenida da Rosa, 654 João Paulo Ii 20295449 Nu...  76516-765  ...   \n",
              "...                                                 ...        ...  ...   \n",
              "1991  Travessa Eloah Moura, 97 Alta Tensão 2ª Seção ...  36211-005  ...   \n",
              "1992  Feira de Vieira, 1 Planalto 31794137 Rodrigues...   15386938  ...   \n",
              "1993  Feira de Vieira, 1 Planalto 31794137 Rodrigues...   15386938  ...   \n",
              "1994  Feira de Vieira, 1 Planalto 31794137 Rodrigues...   15386938  ...   \n",
              "1995  Feira de Vieira, 1 Planalto 31794137 Rodrigues...   15386938  ...   \n",
              "\n",
              "      cod_colaborador     data_entrada_proposta  taxa_juros_mensal  \\\n",
              "0                  17 2015-04-03 04:34:11+00:00             0.0106   \n",
              "1                  73 2010-09-02 22:06:54+00:00             0.0212   \n",
              "2                  87 2018-05-30 16:04:13+00:00             0.0132   \n",
              "3                  29 2020-07-24 15:00:23+00:00             0.0210   \n",
              "4                  34 2022-04-23 03:15:25+00:00             0.0236   \n",
              "...               ...                       ...                ...   \n",
              "1991               38 2012-07-14 02:25:07+00:00             0.0099   \n",
              "1992               16 2012-06-05 20:29:13+00:00             0.0131   \n",
              "1993               18 2011-02-18 11:55:27+00:00             0.0087   \n",
              "1994               35 2015-10-30 01:22:06+00:00             0.0152   \n",
              "1995               56 2015-04-13 04:42:04+00:00             0.0242   \n",
              "\n",
              "      valor_proposta valor_financiamento  valor_entrada  valor_prestacao  \\\n",
              "0       13056.935827            18009.22    4952.284173       285.157078   \n",
              "1       68031.962747           110541.92   42509.957253      1910.887012   \n",
              "2      139839.834712           240449.39  100609.555288      2861.303123   \n",
              "3       94843.853223           140271.31   45427.456777      2363.479287   \n",
              "4       15301.504986            19535.75    4234.245014      4053.705326   \n",
              "...              ...                 ...            ...              ...   \n",
              "1991   149926.136028           217880.51   67954.373972      2328.324613   \n",
              "1992    30487.987981            52975.78   22487.792019       823.338389   \n",
              "1993   133575.197230           228888.78   95313.582770      2247.992311   \n",
              "1994    52439.145420            98620.47   46181.324580       964.731237   \n",
              "1995    43718.451501            67193.24   23474.788499      4574.460078   \n",
              "\n",
              "      quantidade_parcelas  carencia       status_proposta  \n",
              "0                      63         3               Enviada  \n",
              "1                      67         6               Enviada  \n",
              "2                      79         5              Aprovada  \n",
              "3                      89         1               Enviada  \n",
              "4                       4         3              Aprovada  \n",
              "...                   ...       ...                   ...  \n",
              "1991                  103         1  Validação documentos  \n",
              "1992                   51         0               Enviada  \n",
              "1993                   84         2               Enviada  \n",
              "1994                  116         1              Aprovada  \n",
              "1995                   11         3            Em análise  \n",
              "\n",
              "[1996 rows x 23 columns]"
            ]
          },
          "execution_count": 458,
          "metadata": {},
          "output_type": "execute_result"
        }
      ],
      "source": [
        "cliente_credito = pd.merge(clientes, propostas_credito, on=\"cod_cliente\")\n",
        "cliente_credito"
      ]
    },
    {
      "cell_type": "markdown",
      "metadata": {
        "id": "jhrlsdsp4wUn"
      },
      "source": [
        "Junção da coluna ``idade`` com ``status_proposta``\n"
      ]
    },
    {
      "cell_type": "code",
      "execution_count": 459,
      "metadata": {
        "colab": {
          "base_uri": "https://localhost:8080/",
          "height": 424
        },
        "id": "vom72vY04yrP",
        "outputId": "f95248bc-7d76-4e3c-d9e7-6cb12e16f21e"
      },
      "outputs": [
        {
          "data": {
            "text/html": [
              "<div>\n",
              "<style scoped>\n",
              "    .dataframe tbody tr th:only-of-type {\n",
              "        vertical-align: middle;\n",
              "    }\n",
              "\n",
              "    .dataframe tbody tr th {\n",
              "        vertical-align: top;\n",
              "    }\n",
              "\n",
              "    .dataframe thead th {\n",
              "        text-align: right;\n",
              "    }\n",
              "</style>\n",
              "<table border=\"1\" class=\"dataframe\">\n",
              "  <thead>\n",
              "    <tr style=\"text-align: right;\">\n",
              "      <th></th>\n",
              "      <th>cod_cliente</th>\n",
              "      <th>idade</th>\n",
              "      <th>status_proposta</th>\n",
              "    </tr>\n",
              "  </thead>\n",
              "  <tbody>\n",
              "    <tr>\n",
              "      <th>0</th>\n",
              "      <td>28</td>\n",
              "      <td>19</td>\n",
              "      <td>Enviada</td>\n",
              "    </tr>\n",
              "    <tr>\n",
              "      <th>1</th>\n",
              "      <td>28</td>\n",
              "      <td>19</td>\n",
              "      <td>Enviada</td>\n",
              "    </tr>\n",
              "    <tr>\n",
              "      <th>2</th>\n",
              "      <td>28</td>\n",
              "      <td>19</td>\n",
              "      <td>Aprovada</td>\n",
              "    </tr>\n",
              "    <tr>\n",
              "      <th>3</th>\n",
              "      <td>674</td>\n",
              "      <td>30</td>\n",
              "      <td>Enviada</td>\n",
              "    </tr>\n",
              "    <tr>\n",
              "      <th>4</th>\n",
              "      <td>674</td>\n",
              "      <td>30</td>\n",
              "      <td>Aprovada</td>\n",
              "    </tr>\n",
              "    <tr>\n",
              "      <th>...</th>\n",
              "      <td>...</td>\n",
              "      <td>...</td>\n",
              "      <td>...</td>\n",
              "    </tr>\n",
              "    <tr>\n",
              "      <th>1991</th>\n",
              "      <td>845</td>\n",
              "      <td>82</td>\n",
              "      <td>Validação documentos</td>\n",
              "    </tr>\n",
              "    <tr>\n",
              "      <th>1992</th>\n",
              "      <td>853</td>\n",
              "      <td>26</td>\n",
              "      <td>Enviada</td>\n",
              "    </tr>\n",
              "    <tr>\n",
              "      <th>1993</th>\n",
              "      <td>853</td>\n",
              "      <td>26</td>\n",
              "      <td>Enviada</td>\n",
              "    </tr>\n",
              "    <tr>\n",
              "      <th>1994</th>\n",
              "      <td>853</td>\n",
              "      <td>26</td>\n",
              "      <td>Aprovada</td>\n",
              "    </tr>\n",
              "    <tr>\n",
              "      <th>1995</th>\n",
              "      <td>853</td>\n",
              "      <td>26</td>\n",
              "      <td>Em análise</td>\n",
              "    </tr>\n",
              "  </tbody>\n",
              "</table>\n",
              "<p>1996 rows × 3 columns</p>\n",
              "</div>"
            ],
            "text/plain": [
              "      cod_cliente  idade       status_proposta\n",
              "0              28     19               Enviada\n",
              "1              28     19               Enviada\n",
              "2              28     19              Aprovada\n",
              "3             674     30               Enviada\n",
              "4             674     30              Aprovada\n",
              "...           ...    ...                   ...\n",
              "1991          845     82  Validação documentos\n",
              "1992          853     26               Enviada\n",
              "1993          853     26               Enviada\n",
              "1994          853     26              Aprovada\n",
              "1995          853     26            Em análise\n",
              "\n",
              "[1996 rows x 3 columns]"
            ]
          },
          "execution_count": 459,
          "metadata": {},
          "output_type": "execute_result"
        }
      ],
      "source": [
        "idade_status = pd.merge(clientes[[\"cod_cliente\",\"idade\"]], propostas_credito[[\"cod_cliente\",\"status_proposta\"]], on=\"cod_cliente\", how=\"inner\")\n",
        "idade_status"
      ]
    },
    {
      "cell_type": "markdown",
      "metadata": {
        "id": "_dsx_VkQze-M"
      },
      "source": [
        "#### =============================================================\n",
        "### 👔🪙 Colaborador x Agencia\n",
        "\n"
      ]
    },
    {
      "cell_type": "markdown",
      "metadata": {
        "id": "F1BgynhK29EX"
      },
      "source": [
        "#### Checagem de nulos"
      ]
    },
    {
      "cell_type": "code",
      "execution_count": 460,
      "metadata": {
        "colab": {
          "base_uri": "https://localhost:8080/",
          "height": 147
        },
        "id": "Gy46Fq_y2-dY",
        "outputId": "5772610a-2b86-4be8-acdc-cca422e02597"
      },
      "outputs": [
        {
          "data": {
            "text/plain": [
              "cod_colaborador    0\n",
              "cod_agencia        0\n",
              "dtype: int64"
            ]
          },
          "execution_count": 460,
          "metadata": {},
          "output_type": "execute_result"
        }
      ],
      "source": [
        "colaborador_agencia.isnull().sum()"
      ]
    },
    {
      "cell_type": "markdown",
      "metadata": {},
      "source": [
        "#### Exploração inicial"
      ]
    },
    {
      "cell_type": "code",
      "execution_count": 461,
      "metadata": {
        "colab": {
          "base_uri": "https://localhost:8080/"
        },
        "id": "erH8634tqUPl",
        "outputId": "8879d7bf-46ed-4b6b-8b55-3dfb006517a2"
      },
      "outputs": [
        {
          "data": {
            "text/plain": [
              "Index(['cod_colaborador', 'cod_agencia'], dtype='object')"
            ]
          },
          "execution_count": 461,
          "metadata": {},
          "output_type": "execute_result"
        }
      ],
      "source": [
        "# colaborador_agencia.info()\n",
        "colaborador_agencia.describe()\n",
        "colaborador_agencia.columns"
      ]
    },
    {
      "cell_type": "markdown",
      "metadata": {
        "id": "-Ed7WiHvzg0t"
      },
      "source": [
        "#### =============================================================\n",
        "### 👔 Colaboradores\n"
      ]
    },
    {
      "cell_type": "markdown",
      "metadata": {
        "id": "KZvpxRU03BrR"
      },
      "source": [
        "#### Checagem de nulos"
      ]
    },
    {
      "cell_type": "code",
      "execution_count": 462,
      "metadata": {
        "colab": {
          "base_uri": "https://localhost:8080/",
          "height": 335
        },
        "id": "4DKhcGUK3C9W",
        "outputId": "b50d5638-85f4-491b-b3af-3705b605d5c5"
      },
      "outputs": [
        {
          "data": {
            "text/plain": [
              "cod_colaborador    0\n",
              "primeiro_nome      0\n",
              "ultimo_nome        0\n",
              "email              0\n",
              "cpf                0\n",
              "data_nascimento    0\n",
              "endereco           0\n",
              "cep                0\n",
              "dtype: int64"
            ]
          },
          "execution_count": 462,
          "metadata": {},
          "output_type": "execute_result"
        }
      ],
      "source": [
        "colaboradores.isnull().sum()"
      ]
    },
    {
      "cell_type": "markdown",
      "metadata": {},
      "source": [
        "#### Exploração inicial"
      ]
    },
    {
      "cell_type": "code",
      "execution_count": 463,
      "metadata": {
        "colab": {
          "base_uri": "https://localhost:8080/"
        },
        "id": "k6uXQEeZqWau",
        "outputId": "4a6bc1ff-f31c-4679-9391-fabc3a57a821"
      },
      "outputs": [
        {
          "data": {
            "text/plain": [
              "Index(['cod_colaborador', 'primeiro_nome', 'ultimo_nome', 'email', 'cpf',\n",
              "       'data_nascimento', 'endereco', 'cep'],\n",
              "      dtype='object')"
            ]
          },
          "execution_count": 463,
          "metadata": {},
          "output_type": "execute_result"
        }
      ],
      "source": [
        "# colaboradores.info()\n",
        "colaboradores.describe()\n",
        "colaboradores.columns"
      ]
    },
    {
      "cell_type": "markdown",
      "metadata": {
        "id": "0i2DXxVhzlDd"
      },
      "source": [
        "#### =============================================================\n",
        "### 💳 Contas"
      ]
    },
    {
      "cell_type": "markdown",
      "metadata": {
        "id": "aQXLPSwf3GRd"
      },
      "source": [
        "#### Checagem de nulos"
      ]
    },
    {
      "cell_type": "code",
      "execution_count": 464,
      "metadata": {
        "colab": {
          "base_uri": "https://localhost:8080/",
          "height": 366
        },
        "id": "qjqXv73W3IxU",
        "outputId": "8de9c0b8-b902-4cb5-eb3c-f9ae3b28d504"
      },
      "outputs": [
        {
          "data": {
            "text/plain": [
              "num_conta                   0\n",
              "cod_cliente                 0\n",
              "cod_agencia                 0\n",
              "cod_colaborador             0\n",
              "tipo_conta                  0\n",
              "data_abertura               0\n",
              "saldo_total                 0\n",
              "saldo_disponivel            0\n",
              "data_ultimo_lancamento    521\n",
              "dtype: int64"
            ]
          },
          "execution_count": 464,
          "metadata": {},
          "output_type": "execute_result"
        }
      ],
      "source": [
        "contas.isnull().sum()"
      ]
    },
    {
      "cell_type": "markdown",
      "metadata": {},
      "source": [
        "#### Exploração inicial"
      ]
    },
    {
      "cell_type": "code",
      "execution_count": 465,
      "metadata": {
        "colab": {
          "base_uri": "https://localhost:8080/"
        },
        "id": "A5GHqlOKqYjd",
        "outputId": "d05fb2d1-cd47-42ab-f06e-4d4e77172f1f"
      },
      "outputs": [
        {
          "data": {
            "text/plain": [
              "Index(['num_conta', 'cod_cliente', 'cod_agencia', 'cod_colaborador',\n",
              "       'tipo_conta', 'data_abertura', 'saldo_total', 'saldo_disponivel',\n",
              "       'data_ultimo_lancamento'],\n",
              "      dtype='object')"
            ]
          },
          "execution_count": 465,
          "metadata": {},
          "output_type": "execute_result"
        }
      ],
      "source": [
        "# contas.info()\n",
        "contas.describe()\n",
        "contas.columns"
      ]
    },
    {
      "cell_type": "markdown",
      "metadata": {
        "id": "7H4fBFOd66TD"
      },
      "source": [
        "#### Distribuição  saldo médio"
      ]
    },
    {
      "cell_type": "code",
      "execution_count": 466,
      "metadata": {
        "colab": {
          "base_uri": "https://localhost:8080/"
        },
        "id": "Au9IDQgk65yP",
        "outputId": "c33fd2e5-39ec-4fd1-ddd4-ab38e900f800"
      },
      "outputs": [
        {
          "name": "stdout",
          "output_type": "stream",
          "text": [
            "O saldo médio das contas é de R$26543.41\n"
          ]
        }
      ],
      "source": [
        "contas[\"saldo_total\"].mean()\n",
        "print(f\"O saldo médio das contas é de R${contas['saldo_total'].mean():.2f}\")"
      ]
    },
    {
      "cell_type": "markdown",
      "metadata": {
        "id": "NJ9IEv2LzmTr"
      },
      "source": [
        "#### =============================================================\n",
        "### 💰 Propostas de Crédito"
      ]
    },
    {
      "cell_type": "markdown",
      "metadata": {
        "id": "5JQu9XzN3PZz"
      },
      "source": [
        "#### Checagem de nulos"
      ]
    },
    {
      "cell_type": "code",
      "execution_count": 467,
      "metadata": {
        "colab": {
          "base_uri": "https://localhost:8080/",
          "height": 460
        },
        "id": "S25DZqy43RA0",
        "outputId": "565c7cda-034c-4961-b7bd-9546a997b1d0"
      },
      "outputs": [
        {
          "data": {
            "text/plain": [
              "cod_proposta             0\n",
              "cod_cliente              0\n",
              "cod_colaborador          0\n",
              "data_entrada_proposta    0\n",
              "taxa_juros_mensal        0\n",
              "valor_proposta           0\n",
              "valor_financiamento      0\n",
              "valor_entrada            0\n",
              "valor_prestacao          0\n",
              "quantidade_parcelas      0\n",
              "carencia                 0\n",
              "status_proposta          0\n",
              "dtype: int64"
            ]
          },
          "execution_count": 467,
          "metadata": {},
          "output_type": "execute_result"
        }
      ],
      "source": [
        "propostas_credito.isnull().sum()"
      ]
    },
    {
      "cell_type": "markdown",
      "metadata": {},
      "source": [
        "#### Exploração inicial"
      ]
    },
    {
      "cell_type": "code",
      "execution_count": 468,
      "metadata": {
        "colab": {
          "base_uri": "https://localhost:8080/"
        },
        "id": "uezYQfhKqaAu",
        "outputId": "55542476-804c-4f3b-daea-5ef93f6fdfc5"
      },
      "outputs": [
        {
          "data": {
            "text/plain": [
              "Index(['cod_proposta', 'cod_cliente', 'cod_colaborador',\n",
              "       'data_entrada_proposta', 'taxa_juros_mensal', 'valor_proposta',\n",
              "       'valor_financiamento', 'valor_entrada', 'valor_prestacao',\n",
              "       'quantidade_parcelas', 'carencia', 'status_proposta'],\n",
              "      dtype='object')"
            ]
          },
          "execution_count": 468,
          "metadata": {},
          "output_type": "execute_result"
        }
      ],
      "source": [
        "# propostas_credito.info()\n",
        "propostas_credito.describe()\n",
        "propostas_credito.columns"
      ]
    },
    {
      "cell_type": "markdown",
      "metadata": {},
      "source": [
        "#### Métricas"
      ]
    },
    {
      "cell_type": "markdown",
      "metadata": {},
      "source": [
        "Valor médio das propostas"
      ]
    },
    {
      "cell_type": "code",
      "execution_count": 469,
      "metadata": {
        "colab": {
          "base_uri": "https://localhost:8080/"
        },
        "id": "UIrcy2bm6tcE",
        "outputId": "6f5b920b-932b-4fb1-bbd9-fba4088a4aab"
      },
      "outputs": [
        {
          "name": "stdout",
          "output_type": "stream",
          "text": [
            "O valor médio das propostas é de R$83890.49\n"
          ]
        }
      ],
      "source": [
        "propostas_credito[\"valor_proposta\"].mean()\n",
        "print(f\"O valor médio das propostas é de R${propostas_credito['valor_proposta'].mean():.2f}\")"
      ]
    },
    {
      "cell_type": "markdown",
      "metadata": {},
      "source": [
        "Valor médio de financiamento"
      ]
    },
    {
      "cell_type": "code",
      "execution_count": 470,
      "metadata": {
        "colab": {
          "base_uri": "https://localhost:8080/"
        },
        "id": "gUsh0cUX61Od",
        "outputId": "ff4f6829-9000-45b0-b0ff-d53c1356ffea"
      },
      "outputs": [
        {
          "name": "stdout",
          "output_type": "stream",
          "text": [
            "O valor médio do financiamento é de R$124758.36\n"
          ]
        }
      ],
      "source": [
        "propostas_credito[\"valor_financiamento\"].mean()\n",
        "print(f\"O valor médio do financiamento é de R${propostas_credito['valor_financiamento'].mean():.2f}\")"
      ]
    },
    {
      "cell_type": "markdown",
      "metadata": {},
      "source": [
        "#### Análise e visualização dos status das propostas"
      ]
    },
    {
      "cell_type": "markdown",
      "metadata": {},
      "source": [
        "Taxa de aprovação de crédito"
      ]
    },
    {
      "cell_type": "code",
      "execution_count": 471,
      "metadata": {
        "colab": {
          "base_uri": "https://localhost:8080/",
          "height": 241
        },
        "id": "Zy-2XrsO7b5-",
        "outputId": "f5bd07a2-17d2-4367-9620-a2ee953281d6"
      },
      "outputs": [
        {
          "data": {
            "text/plain": [
              "status_proposta\n",
              "Enviada                 0.2635\n",
              "Aprovada                0.2570\n",
              "Validação documentos    0.2455\n",
              "Em análise              0.2340\n",
              "Name: proportion, dtype: float64"
            ]
          },
          "execution_count": 471,
          "metadata": {},
          "output_type": "execute_result"
        }
      ],
      "source": [
        "propostas_credito[\"status_proposta\"].value_counts(normalize=True)"
      ]
    },
    {
      "cell_type": "markdown",
      "metadata": {},
      "source": [
        "Visualização dos dados"
      ]
    },
    {
      "cell_type": "code",
      "execution_count": 472,
      "metadata": {
        "colab": {
          "base_uri": "https://localhost:8080/",
          "height": 410
        },
        "id": "NupR0twr8HDx",
        "outputId": "368c473f-836a-468e-b13c-185dd755c5aa"
      },
      "outputs": [
        {
          "data": {
            "image/png": "[encoded data removed]",
            "text/plain": [
              "<Figure size 1000x400 with 1 Axes>"
            ]
          },
          "metadata": {},
          "output_type": "display_data"
        }
      ],
      "source": [
        "plt.figure(figsize=(10, 4))\n",
        "sns.histplot(data=propostas_credito, x=\"status_proposta\", stat=\"percent\", bins=20)\n",
        "plt.title(\"Distribuição Status Propostas\")\n",
        "plt.xlabel(\"Status da Proposta\")\n",
        "plt.ylabel(\"Porcentagem\")\n",
        "plt.show()"
      ]
    },
    {
      "cell_type": "markdown",
      "metadata": {
        "id": "Z_LA7Bvwzn-b"
      },
      "source": [
        "#### =============================================================\n",
        "### 💵 Transações"
      ]
    },
    {
      "cell_type": "markdown",
      "metadata": {
        "id": "pNLnxFxm3eDt"
      },
      "source": [
        "#### Checagem de nulos"
      ]
    },
    {
      "cell_type": "code",
      "execution_count": 473,
      "metadata": {
        "colab": {
          "base_uri": "https://localhost:8080/",
          "height": 241
        },
        "id": "2wdwFaBF3Uyw",
        "outputId": "49761358-5138-482d-ce25-578d610a2471"
      },
      "outputs": [
        {
          "data": {
            "text/plain": [
              "cod_transacao         0\n",
              "num_conta             0\n",
              "data_transacao_raw    0\n",
              "nome_transacao        0\n",
              "valor_transacao       0\n",
              "data_transacao        0\n",
              "data                  0\n",
              "mes                   0\n",
              "par_impar             0\n",
              "dia_semana            0\n",
              "dtype: int64"
            ]
          },
          "execution_count": 473,
          "metadata": {},
          "output_type": "execute_result"
        }
      ],
      "source": [
        "transacoes.isnull().sum()"
      ]
    },
    {
      "cell_type": "markdown",
      "metadata": {},
      "source": [
        "#### Exploração inicial"
      ]
    },
    {
      "cell_type": "code",
      "execution_count": 474,
      "metadata": {
        "colab": {
          "base_uri": "https://localhost:8080/"
        },
        "id": "P0Mxc6dgqoMt",
        "outputId": "63619f52-e487-4c60-903d-8264c605aa77"
      },
      "outputs": [
        {
          "data": {
            "text/plain": [
              "Index(['cod_transacao', 'num_conta', 'data_transacao_raw', 'nome_transacao',\n",
              "       'valor_transacao', 'data_transacao', 'data', 'mes', 'par_impar',\n",
              "       'dia_semana'],\n",
              "      dtype='object')"
            ]
          },
          "execution_count": 474,
          "metadata": {},
          "output_type": "execute_result"
        }
      ],
      "source": [
        "# transacoes.info()\n",
        "transacoes.describe()\n",
        "transacoes.columns"
      ]
    },
    {
      "cell_type": "code",
      "execution_count": 475,
      "metadata": {},
      "outputs": [
        {
          "data": {
            "text/plain": [
              "nome_transacao\n",
              "Compra Crédito                      24977\n",
              "Compra Débito                       17662\n",
              "Pix - Realizado                     13164\n",
              "Pix - Recebido                       5134\n",
              "Depósito em espécie                  4866\n",
              "Saque                                2879\n",
              "TED - Recebido                       1005\n",
              "Pagamento de boleto                   452\n",
              "Transferência entre CC - Crédito      441\n",
              "Estorno de Debito                     403\n",
              "DOC - Recebido                        402\n",
              "Transferência entre CC - Débito       303\n",
              "TED - Realizado                       130\n",
              "DOC - Realizado                        91\n",
              "Pix Saque                              90\n",
              "Name: count, dtype: int64"
            ]
          },
          "execution_count": 475,
          "metadata": {},
          "output_type": "execute_result"
        }
      ],
      "source": [
        "transacoes[\"nome_transacao\"].value_counts()"
      ]
    },
    {
      "cell_type": "markdown",
      "metadata": {
        "id": "rqDZAmcr-kd7"
      },
      "source": [
        "#### Identificação das transações mais comuns"
      ]
    },
    {
      "cell_type": "code",
      "execution_count": 476,
      "metadata": {
        "colab": {
          "base_uri": "https://localhost:8080/",
          "height": 586
        },
        "id": "Jm5V8rwMItgi",
        "outputId": "f20ae22f-39eb-45ac-f948-ada3eb469c11"
      },
      "outputs": [
        {
          "name": "stdout",
          "output_type": "stream",
          "text": [
            "As três transações mais comuns são: Compra Crédito, Compra Débito, Pix - Realizado.\n"
          ]
        }
      ],
      "source": [
        "transacoes[\"nome_transacao\"].value_counts()\n",
        "print(f\"As três transações mais comuns são: {', '.join(transacoes['nome_transacao'].value_counts().head(3).index)}.\")"
      ]
    },
    {
      "cell_type": "markdown",
      "metadata": {
        "id": "f7RtN3l78gkk"
      },
      "source": [
        "#### Análises das transações APROVADAS por dia da semana"
      ]
    },
    {
      "cell_type": "code",
      "execution_count": 477,
      "metadata": {},
      "outputs": [],
      "source": [
        "# Merge clientes + propostas\n",
        "clientes_propostas = clientes.merge(propostas_credito[[\"cod_cliente\", \"status_proposta\"]], on=\"cod_cliente\", how=\"inner\")\n",
        "\n",
        "# Merge clientes_propostas + contas\n",
        "clientes_contas = clientes_propostas.merge(contas[[\"num_conta\", \"cod_cliente\"]], on=\"cod_cliente\", how=\"inner\")\n",
        "\n",
        "# Merge clientes_propostas + transacoes\n",
        "transacoes_prop = clientes_contas.merge(transacoes, on=\"num_conta\", how=\"inner\")"
      ]
    },
    {
      "cell_type": "code",
      "execution_count": 478,
      "metadata": {
        "colab": {
          "base_uri": "https://localhost:8080/"
        },
        "id": "Ql5S2DdrIzc5",
        "outputId": "616339dd-5dc2-4b20-a61f-62c15956d87d"
      },
      "outputs": [],
      "source": [
        "# Filtro de transações com status 'Aprovada'\n",
        "transacoes_aprovadas = transacoes_prop[transacoes_prop[\"status_proposta\"] == \"Aprovada\"].copy()\n",
        "\n",
        "# Adiciona coluna com o dia da semana que foi realizada a transação\n",
        "transacoes_aprovadas.loc[:, \"dia_semana\"] = transacoes_aprovadas[\"data_transacao\"].dt.day_name() "
      ]
    },
    {
      "cell_type": "code",
      "execution_count": 479,
      "metadata": {
        "colab": {
          "base_uri": "https://localhost:8080/"
        },
        "id": "p8GxUKO0pMng",
        "outputId": "410fe970-1086-4a4a-979a-ab93151b0b79"
      },
      "outputs": [],
      "source": [
        "# Qtde de transações aprovadas por dia\n",
        "qtd_transacoes_aprov_dia = transacoes_aprovadas.groupby(\"dia_semana\")[\"valor_transacao\"].count()\n",
        "\n",
        "# Valor médio aprovado por dia\n",
        "valor_aprov_dia = transacoes_aprovadas.groupby(\"dia_semana\")[\"valor_transacao\"].mean()"
      ]
    },
    {
      "cell_type": "code",
      "execution_count": 480,
      "metadata": {},
      "outputs": [
        {
          "name": "stdout",
          "output_type": "stream",
          "text": [
            "Qtde de transações APROVADAS por dia da semana: dia_semana\n",
            "Segunda-feira     3628\n",
            "Terça-feira       3851\n",
            "Quarta-feira      4092\n",
            "Quinta-feira     13914\n",
            "Sexta-feira       3631\n",
            "Sábado            3693\n",
            "Domingo           3979\n",
            "Name: valor_transacao, dtype: int64\n",
            "\n",
            "Valor médio movimentado por dia da semana: dia_semana\n",
            "Segunda-feira    384.313\n",
            "Terça-feira      351.792\n",
            "Quarta-feira     412.379\n",
            "Quinta-feira     347.981\n",
            "Sexta-feira      261.400\n",
            "Sábado           392.004\n",
            "Domingo          587.698\n",
            "Name: valor_transacao, dtype: float64\n"
          ]
        }
      ],
      "source": [
        "# Reordenando os dias da semana\n",
        "ordem_semana = [\"Monday\", \"Tuesday\", \"Wednesday\", \"Thursday\", \"Friday\", \"Saturday\", \"Sunday\"]\n",
        "\n",
        "qtd_transacoes_aprov_dia = qtd_transacoes_aprov_dia.reindex(ordem_semana)\n",
        "\n",
        "valor_aprov_dia = valor_aprov_dia.reindex(ordem_semana)\n",
        "\n",
        "# Dicionário para traduzir os dias da semana\n",
        "dias_semana_pt = {\n",
        "    \"Monday\": \"Segunda-feira\",\n",
        "    \"Tuesday\": \"Terça-feira\",\n",
        "    \"Wednesday\": \"Quarta-feira\",\n",
        "    \"Thursday\": \"Quinta-feira\",\n",
        "    \"Friday\": \"Sexta-feira\",\n",
        "    \"Saturday\": \"Sábado\",\n",
        "    \"Sunday\": \"Domingo\"\n",
        "}\n",
        "\n",
        "# Aplicando a tradução nos índices\n",
        "qtd_transacoes_aprov_dia.index = qtd_transacoes_aprov_dia.index.map(dias_semana_pt)\n",
        "valor_aprov_dia.index = valor_aprov_dia.index.map(dias_semana_pt)\n",
        "\n",
        "print(f\"Qtde de transações APROVADAS por dia da semana: {qtd_transacoes_aprov_dia}\\n\\nValor médio movimentado por dia da semana: {round(valor_aprov_dia, 3)}\")"
      ]
    },
    {
      "cell_type": "markdown",
      "metadata": {},
      "source": [
        "Inferência"
      ]
    },
    {
      "cell_type": "code",
      "execution_count": 481,
      "metadata": {},
      "outputs": [
        {
          "name": "stdout",
          "output_type": "stream",
          "text": [
            "O dia da semana com maior quantidade de transações aprovadas é Quinta-feira com 13914 transações.\n",
            "\n",
            "O dia da semana com maior valor médio movimentado é Domingo com valor médio de R$587.70\n"
          ]
        }
      ],
      "source": [
        "print(f\"O dia da semana com maior quantidade de transações aprovadas é {qtd_transacoes_aprov_dia.idxmax()} com {qtd_transacoes_aprov_dia.max()} transações.\\n\\nO dia da semana com maior valor médio movimentado é {valor_aprov_dia.idxmax()} com valor médio de R${valor_aprov_dia.max():.2f}\")"
      ]
    },
    {
      "cell_type": "markdown",
      "metadata": {
        "id": "L4VmlRbfLydv"
      },
      "source": [
        "\n",
        "#### Comparação de transações em meses PARES X meses ÍMPARES"
      ]
    },
    {
      "cell_type": "code",
      "execution_count": 482,
      "metadata": {},
      "outputs": [
        {
          "data": {
            "text/plain": [
              "par_impar\n",
              "Par      47340\n",
              "Ímpar    24659\n",
              "Name: count, dtype: int64"
            ]
          },
          "execution_count": 482,
          "metadata": {},
          "output_type": "execute_result"
        }
      ],
      "source": [
        "transacoes[\"par_impar\"].value_counts()"
      ]
    },
    {
      "cell_type": "code",
      "execution_count": 483,
      "metadata": {
        "colab": {
          "base_uri": "https://localhost:8080/"
        },
        "id": "dLXVqJhJKC5r",
        "outputId": "b6767d4f-4ece-49d2-e280-b399f4561023"
      },
      "outputs": [
        {
          "name": "stdout",
          "output_type": "stream",
          "text": [
            "A quantidade de transações é significamente maior nos meses Par, com média de 47340 transações. \n",
            "Isso consistente com a hipótese levantada.\n"
          ]
        }
      ],
      "source": [
        "# Contagem de transações em meses pares e ímpares\n",
        "cont_par_impar = transacoes[\"par_impar\"].value_counts()\n",
        "resultado = cont_par_impar.idxmax()\n",
        "qtde = cont_par_impar.max()\n",
        "\n",
        "if resultado == \"Par\":\n",
        "    print(f\"A quantidade de transações é significamente maior nos meses {resultado}, com média de {round(qtde, 3)} transações. \\nIsso consistente com a hipótese levantada.\")\n",
        "else:\n",
        "    print(f\"A quantidade de transações é significamente maior nos meses {resultado}, com média de {round(qtde, 3)} transações. \\nIsso não é consistente com a hipótese levantada.\")"
      ]
    },
    {
      "cell_type": "markdown",
      "metadata": {},
      "source": [
        "#### Análises usando `dim_dates`\n",
        "##### Análises nesse bloco\n",
        "- Quantidade de transações realizadas por mês + Valor médio transacionado por mês\n",
        "- Comparativo da qtde de transações realizadas aos Fins de Semana X Dias Úteis"
      ]
    },
    {
      "cell_type": "markdown",
      "metadata": {},
      "source": [
        "##### 1: Quantidade de transações realizadas por mês + valor médio mensal transacionado"
      ]
    },
    {
      "cell_type": "code",
      "execution_count": 484,
      "metadata": {},
      "outputs": [],
      "source": [
        "# Recriando a dim_dates para garantir que está correta\n",
        "min_d = transacoes[\"data\"].min()\n",
        "max_d = transacoes[\"data\"].max()\n",
        "\n",
        "# Gerando o calendário completo de dias entre min_d e max_d \n",
        "dim_dates = pd.DataFrame({\"data\": pd.date_range(start=min_d, end=max_d, freq=\"D\")})\n",
        "dim_dates[\"ano\"] = dim_dates[\"data\"].dt.year\n",
        "dim_dates[\"mes\"] = dim_dates[\"data\"].dt.month\n",
        "dim_dates[\"nome_mes\"] = dim_dates[\"data\"].dt.month_name()"
      ]
    },
    {
      "cell_type": "code",
      "execution_count": 485,
      "metadata": {},
      "outputs": [],
      "source": [
        "# Verificação de integridade dos dados antes da agregação \n",
        "nat_count = transacoes[\"data\"].isna().sum()\n",
        "if nat_count > 0:\n",
        "    print(f\"Há {nat_count} transações com data NaT (serão ignoradas na agregação).\")\n",
        "\n",
        "# Verificação de datas em transações que não existem na dim_dates\n",
        "datas_tx = pd.Series(transacoes[\"data\"].dropna().unique())\n",
        "datas_dim = pd.Series(dim_dates[\"data\"].unique())\n",
        "datas_sem_match = pd.to_datetime(pd.Index(datas_tx).difference(pd.Index(datas_dim)))\n",
        "\n",
        "# Verificação visual das datas que não deram match\n",
        "if len(datas_sem_match) > 0:\n",
        "    print(\"\\nDatas presentes em transações e ausentes na dim_dates:\")\n",
        "    print(datas_sem_match.sort_values().to_list())"
      ]
    },
    {
      "cell_type": "code",
      "execution_count": 486,
      "metadata": {},
      "outputs": [],
      "source": [
        "# Agrupamento diário das transações e merge com dim_dates\n",
        "transacoes_diaria = (transacoes.dropna(subset=[\"data\"]).groupby(\"data\", as_index=False).agg(qtd=(\"cod_transacao\",\"size\"),valor_liquido=(\"valor_transacao\",\"sum\"),valor_abs=(\"valor_transacao\", lambda s: s.abs().sum())))\n",
        "\n",
        "# Criação do calendário diário completo com preenchimento de zeros\n",
        "calendario_diario = (\n",
        "    dim_dates[[\"data\",\"ano\",\"mes\",\"nome_mes\"]]\n",
        "      .merge(transacoes_diaria, on=\"data\", how=\"left\", validate=\"1:1\")\n",
        "      .fillna({\"qtd\":0, \"valor_liquido\":0.0, \"valor_abs\":0.0})\n",
        ")\n",
        "# print(\"Check (qtd somada) -> calendario_diario vs transacoes_diaria:\", calendario_diario[\"qtd\"].sum(), \"==\", transacoes_diaria[\"qtd\"].sum())"
      ]
    },
    {
      "cell_type": "code",
      "execution_count": 487,
      "metadata": {},
      "outputs": [],
      "source": [
        "# Agregação diária das transações para visão mensal e cálculo do ticket médio (valor médio por transação)\n",
        "mensal = (\n",
        "    calendario_diario\n",
        "      .groupby([\"ano\",\"mes\",\"nome_mes\"], as_index=False)\n",
        "      .agg(\n",
        "          qtd=(\"qtd\",\"sum\"),\n",
        "          valor_liquido=(\"valor_liquido\",\"sum\"),\n",
        "          movimentacao_bruta=(\"valor_abs\",\"sum\")\n",
        "      )\n",
        "      .sort_values([\"ano\",\"mes\"])\n",
        "      .reset_index(drop=True)\n",
        ")\n",
        "\n",
        "mensal[\"ticket_medio\"] = ((mensal[\"valor_liquido\"] / mensal[\"qtd\"]).replace([np.inf, -np.inf], np.nan).fillna(0))"
      ]
    },
    {
      "cell_type": "code",
      "execution_count": 488,
      "metadata": {},
      "outputs": [
        {
          "name": "stdout",
          "output_type": "stream",
          "text": [
            "\n",
            "Ano: 2010\n",
            "Feb - 2 transações - Mov.: R$474.59 - Líq.: R$116.01 - Ticket: R$58.01\n",
            "Mar - 8 transações - Mov.: R$2149.64 - Líq.: R$1566.96 - Ticket: R$195.87\n",
            "Apr - 0 transações - Mov.: R$0.00 - Líq.: R$0.00 - Ticket: R$0.00\n",
            "May - 2 transações - Mov.: R$156.74 - Líq.: R$15.06 - Ticket: R$7.53\n",
            "Jun - 6 transações - Mov.: R$10096.34 - Líq.: R$9869.88 - Ticket: R$1644.98\n",
            "Jul - 6 transações - Mov.: R$917.66 - Líq.: R$270.34 - Ticket: R$45.06\n",
            "Aug - 9 transações - Mov.: R$503.92 - Líq.: R$10.68 - Ticket: R$1.19\n",
            "Sep - 20 transações - Mov.: R$18641.94 - Líq.: R$17129.60 - Ticket: R$856.48\n",
            "Oct - 16 transações - Mov.: R$982.18 - Líq.: R$-484.88 - Ticket: R$-30.30\n",
            "Nov - 2 transações - Mov.: R$413.38 - Líq.: R$223.62 - Ticket: R$111.81\n",
            "Dec - 22 transações - Mov.: R$1311.57 - Líq.: R$-50.77 - Ticket: R$-2.31\n",
            "\n",
            "Ano: 2011\n",
            "Jan - 21 transações - Mov.: R$102111.99 - Líq.: R$25317.47 - Ticket: R$1205.59\n",
            "Feb - 8 transações - Mov.: R$2775.26 - Líq.: R$2118.54 - Ticket: R$264.82\n",
            "Mar - 21 transações - Mov.: R$2687.83 - Líq.: R$92.29 - Ticket: R$4.39\n",
            "Apr - 13 transações - Mov.: R$5932.85 - Líq.: R$4934.55 - Ticket: R$379.58\n",
            "May - 38 transações - Mov.: R$23899.74 - Líq.: R$18156.70 - Ticket: R$477.81\n",
            "Jun - 40 transações - Mov.: R$6116.48 - Líq.: R$3325.90 - Ticket: R$83.15\n",
            "Jul - 50 transações - Mov.: R$25277.84 - Líq.: R$19848.24 - Ticket: R$396.96\n",
            "Aug - 41 transações - Mov.: R$207783.74 - Líq.: R$199184.96 - Ticket: R$4858.17\n",
            "Sep - 41 transações - Mov.: R$5490.27 - Líq.: R$2136.61 - Ticket: R$52.11\n",
            "Oct - 39 transações - Mov.: R$4812.13 - Líq.: R$-3956.07 - Ticket: R$-101.44\n",
            "Nov - 31 transações - Mov.: R$132280.95 - Líq.: R$131012.29 - Ticket: R$4226.20\n",
            "Dec - 24 transações - Mov.: R$63841.37 - Líq.: R$14063.61 - Ticket: R$585.98\n",
            "\n",
            "Ano: 2012\n",
            "Jan - 33 transações - Mov.: R$27656.97 - Líq.: R$24433.97 - Ticket: R$740.42\n",
            "Feb - 32 transações - Mov.: R$7494.84 - Líq.: R$-6841.54 - Ticket: R$-213.80\n",
            "Mar - 66 transações - Mov.: R$75264.61 - Líq.: R$66934.45 - Ticket: R$1014.16\n",
            "Apr - 87 transações - Mov.: R$238560.99 - Líq.: R$222281.81 - Ticket: R$2554.96\n",
            "May - 75 transações - Mov.: R$58752.63 - Líq.: R$51765.01 - Ticket: R$690.20\n",
            "Jun - 57 transações - Mov.: R$7907.51 - Líq.: R$145.21 - Ticket: R$2.55\n",
            "Jul - 65 transações - Mov.: R$252773.96 - Líq.: R$246588.92 - Ticket: R$3793.68\n",
            "Aug - 41 transações - Mov.: R$3314.61 - Líq.: R$-2098.61 - Ticket: R$-51.19\n",
            "Sep - 47 transações - Mov.: R$79221.81 - Líq.: R$73862.55 - Ticket: R$1571.54\n",
            "Oct - 62 transações - Mov.: R$124228.11 - Líq.: R$-81455.85 - Ticket: R$-1313.80\n",
            "Nov - 73 transações - Mov.: R$116447.51 - Líq.: R$109660.33 - Ticket: R$1502.20\n",
            "Dec - 96 transações - Mov.: R$27729.50 - Líq.: R$18658.14 - Ticket: R$194.36\n",
            "\n",
            "Ano: 2013\n",
            "Jan - 104 transações - Mov.: R$18236.20 - Líq.: R$8260.12 - Ticket: R$79.42\n",
            "Feb - 79 transações - Mov.: R$65495.74 - Líq.: R$57976.86 - Ticket: R$733.88\n",
            "Mar - 93 transações - Mov.: R$147293.74 - Líq.: R$135398.38 - Ticket: R$1455.90\n",
            "Apr - 84 transações - Mov.: R$157176.87 - Líq.: R$141742.53 - Ticket: R$1687.41\n",
            "May - 102 transações - Mov.: R$110325.72 - Líq.: R$96136.86 - Ticket: R$942.52\n",
            "Jun - 137 transações - Mov.: R$15932.41 - Líq.: R$-11529.13 - Ticket: R$-84.15\n",
            "Jul - 88 transações - Mov.: R$17428.74 - Líq.: R$9812.18 - Ticket: R$111.50\n",
            "Aug - 101 transações - Mov.: R$31854.79 - Líq.: R$-3256.93 - Ticket: R$-32.25\n",
            "Sep - 82 transações - Mov.: R$62756.90 - Líq.: R$53846.72 - Ticket: R$656.67\n",
            "Oct - 88 transações - Mov.: R$236737.62 - Líq.: R$189200.00 - Ticket: R$2150.00\n",
            "Nov - 128 transações - Mov.: R$172888.14 - Líq.: R$29042.26 - Ticket: R$226.89\n",
            "Dec - 163 transações - Mov.: R$159446.42 - Líq.: R$144031.30 - Ticket: R$883.63\n",
            "\n",
            "Ano: 2014\n",
            "Jan - 134 transações - Mov.: R$282080.02 - Líq.: R$213869.00 - Ticket: R$1596.04\n",
            "Feb - 83 transações - Mov.: R$5579.36 - Líq.: R$-2422.00 - Ticket: R$-29.18\n",
            "Mar - 130 transações - Mov.: R$94018.00 - Líq.: R$78366.52 - Ticket: R$602.82\n",
            "Apr - 122 transações - Mov.: R$145691.77 - Líq.: R$56778.87 - Ticket: R$465.40\n",
            "May - 154 transações - Mov.: R$103943.86 - Líq.: R$60022.90 - Ticket: R$389.76\n",
            "Jun - 134 transações - Mov.: R$82706.33 - Líq.: R$67158.59 - Ticket: R$501.18\n",
            "Jul - 108 transações - Mov.: R$478368.62 - Líq.: R$372191.32 - Ticket: R$3446.22\n",
            "Aug - 121 transações - Mov.: R$147917.10 - Líq.: R$64514.54 - Ticket: R$533.18\n",
            "Sep - 148 transações - Mov.: R$93600.62 - Líq.: R$75694.44 - Ticket: R$511.45\n",
            "Oct - 127 transações - Mov.: R$136197.08 - Líq.: R$117289.60 - Ticket: R$923.54\n",
            "Nov - 117 transações - Mov.: R$48074.28 - Líq.: R$2777.66 - Ticket: R$23.74\n",
            "Dec - 125 transações - Mov.: R$101707.76 - Líq.: R$-38359.52 - Ticket: R$-306.88\n",
            "\n",
            "Ano: 2015\n",
            "Jan - 137 transações - Mov.: R$31604.28 - Líq.: R$18102.40 - Ticket: R$132.13\n",
            "Feb - 94 transações - Mov.: R$110224.79 - Líq.: R$58497.83 - Ticket: R$622.32\n",
            "Mar - 142 transações - Mov.: R$97468.80 - Líq.: R$80682.72 - Ticket: R$568.19\n",
            "Apr - 199 transações - Mov.: R$101352.76 - Líq.: R$77083.40 - Ticket: R$387.35\n",
            "May - 115 transações - Mov.: R$119817.82 - Líq.: R$103827.24 - Ticket: R$902.85\n",
            "Jun - 175 transações - Mov.: R$236851.25 - Líq.: R$183285.37 - Ticket: R$1047.34\n",
            "Jul - 162 transações - Mov.: R$139288.22 - Líq.: R$124244.58 - Ticket: R$766.94\n",
            "Aug - 200 transações - Mov.: R$159637.27 - Líq.: R$130164.13 - Ticket: R$650.82\n",
            "Sep - 128 transações - Mov.: R$24363.24 - Líq.: R$10278.52 - Ticket: R$80.30\n",
            "Oct - 179 transações - Mov.: R$74861.04 - Líq.: R$26531.82 - Ticket: R$148.22\n",
            "Nov - 171 transações - Mov.: R$163340.13 - Líq.: R$124390.33 - Ticket: R$727.43\n",
            "Dec - 195 transações - Mov.: R$214029.78 - Líq.: R$113036.56 - Ticket: R$579.67\n",
            "\n",
            "Ano: 2016\n",
            "Jan - 218 transações - Mov.: R$201865.88 - Líq.: R$158433.92 - Ticket: R$726.76\n",
            "Feb - 194 transações - Mov.: R$35533.45 - Líq.: R$-4789.15 - Ticket: R$-24.69\n",
            "Mar - 204 transações - Mov.: R$151182.71 - Líq.: R$-4544.09 - Ticket: R$-22.27\n",
            "Apr - 167 transações - Mov.: R$70233.51 - Líq.: R$47879.85 - Ticket: R$286.71\n",
            "May - 211 transações - Mov.: R$38750.53 - Líq.: R$13982.37 - Ticket: R$66.27\n",
            "Jun - 193 transações - Mov.: R$285959.58 - Líq.: R$49924.16 - Ticket: R$258.67\n",
            "Jul - 266 transações - Mov.: R$156326.12 - Líq.: R$78779.02 - Ticket: R$296.16\n",
            "Aug - 257 transações - Mov.: R$246843.67 - Líq.: R$216178.09 - Ticket: R$841.16\n",
            "Sep - 234 transações - Mov.: R$186417.18 - Líq.: R$134640.00 - Ticket: R$575.38\n",
            "Oct - 236 transações - Mov.: R$117174.26 - Líq.: R$86624.80 - Ticket: R$367.05\n",
            "Nov - 251 transações - Mov.: R$69307.59 - Líq.: R$39611.47 - Ticket: R$157.81\n",
            "Dec - 173 transações - Mov.: R$146136.20 - Líq.: R$123966.76 - Ticket: R$716.57\n",
            "\n",
            "Ano: 2017\n",
            "Jan - 278 transações - Mov.: R$221903.02 - Líq.: R$176700.98 - Ticket: R$635.62\n",
            "Feb - 219 transações - Mov.: R$251994.11 - Líq.: R$197771.83 - Ticket: R$903.07\n",
            "Mar - 309 transações - Mov.: R$276857.68 - Líq.: R$214034.92 - Ticket: R$692.67\n",
            "Apr - 288 transações - Mov.: R$509554.67 - Líq.: R$415188.79 - Ticket: R$1441.63\n",
            "May - 330 transações - Mov.: R$302811.99 - Líq.: R$135148.73 - Ticket: R$409.54\n",
            "Jun - 300 transações - Mov.: R$245448.01 - Líq.: R$185969.07 - Ticket: R$619.90\n",
            "Jul - 261 transações - Mov.: R$194211.43 - Líq.: R$158605.29 - Ticket: R$607.68\n",
            "Aug - 308 transações - Mov.: R$285269.78 - Líq.: R$-2715.14 - Ticket: R$-8.82\n",
            "Sep - 335 transações - Mov.: R$649702.05 - Líq.: R$540791.19 - Ticket: R$1614.30\n",
            "Oct - 347 transações - Mov.: R$296392.54 - Líq.: R$210814.52 - Ticket: R$607.53\n",
            "Nov - 346 transações - Mov.: R$368710.25 - Líq.: R$254964.77 - Ticket: R$736.89\n",
            "Dec - 234 transações - Mov.: R$221297.57 - Líq.: R$178515.27 - Ticket: R$762.89\n",
            "\n",
            "Ano: 2018\n",
            "Jan - 280 transações - Mov.: R$269268.50 - Líq.: R$171852.64 - Ticket: R$613.76\n",
            "Feb - 271 transações - Mov.: R$224257.10 - Líq.: R$75253.32 - Ticket: R$277.69\n",
            "Mar - 397 transações - Mov.: R$426673.14 - Líq.: R$197926.80 - Ticket: R$498.56\n",
            "Apr - 303 transações - Mov.: R$206022.05 - Líq.: R$162640.09 - Ticket: R$536.77\n",
            "May - 365 transações - Mov.: R$326964.50 - Líq.: R$287727.56 - Ticket: R$788.29\n",
            "Jun - 346 transações - Mov.: R$338878.40 - Líq.: R$156797.16 - Ticket: R$453.17\n",
            "Jul - 378 transações - Mov.: R$377436.58 - Líq.: R$139592.42 - Ticket: R$369.29\n",
            "Aug - 310 transações - Mov.: R$301006.54 - Líq.: R$233134.88 - Ticket: R$752.05\n",
            "Sep - 260 transações - Mov.: R$392993.80 - Líq.: R$359621.94 - Ticket: R$1383.16\n",
            "Oct - 287 transações - Mov.: R$156413.06 - Líq.: R$23560.72 - Ticket: R$82.09\n",
            "Nov - 370 transações - Mov.: R$505433.08 - Líq.: R$367413.86 - Ticket: R$993.01\n",
            "Dec - 377 transações - Mov.: R$389205.19 - Líq.: R$316682.07 - Ticket: R$840.01\n",
            "\n",
            "Ano: 2019\n",
            "Jan - 434 transações - Mov.: R$405289.69 - Líq.: R$349601.83 - Ticket: R$805.53\n",
            "Feb - 455 transações - Mov.: R$518296.46 - Líq.: R$131643.50 - Ticket: R$289.33\n",
            "Mar - 435 transações - Mov.: R$318298.60 - Líq.: R$149164.30 - Ticket: R$342.91\n",
            "Apr - 359 transações - Mov.: R$748339.85 - Líq.: R$634864.63 - Ticket: R$1768.43\n",
            "May - 440 transações - Mov.: R$360574.11 - Líq.: R$81516.03 - Ticket: R$185.26\n",
            "Jun - 493 transações - Mov.: R$411646.72 - Líq.: R$321551.96 - Ticket: R$652.24\n",
            "Jul - 550 transações - Mov.: R$369857.97 - Líq.: R$124600.63 - Ticket: R$226.55\n",
            "Aug - 473 transações - Mov.: R$914059.30 - Líq.: R$611694.84 - Ticket: R$1293.22\n",
            "Sep - 475 transações - Mov.: R$404515.21 - Líq.: R$318081.65 - Ticket: R$669.65\n",
            "Oct - 453 transações - Mov.: R$184392.37 - Líq.: R$94378.27 - Ticket: R$208.34\n",
            "Nov - 429 transações - Mov.: R$485040.01 - Líq.: R$398841.93 - Ticket: R$929.70\n",
            "Dec - 433 transações - Mov.: R$253543.89 - Líq.: R$113241.65 - Ticket: R$261.53\n",
            "\n",
            "Ano: 2020\n",
            "Jan - 506 transações - Mov.: R$863798.39 - Líq.: R$702325.81 - Ticket: R$1388.00\n",
            "Feb - 388 transações - Mov.: R$313259.55 - Líq.: R$132087.95 - Ticket: R$340.43\n",
            "Mar - 461 transações - Mov.: R$644211.58 - Líq.: R$136400.84 - Ticket: R$295.88\n",
            "Apr - 438 transações - Mov.: R$265286.49 - Líq.: R$112367.51 - Ticket: R$256.55\n",
            "May - 359 transações - Mov.: R$207823.09 - Líq.: R$95157.93 - Ticket: R$265.06\n",
            "Jun - 492 transações - Mov.: R$227307.93 - Líq.: R$70322.87 - Ticket: R$142.93\n",
            "Jul - 499 transações - Mov.: R$522256.12 - Líq.: R$168300.64 - Ticket: R$337.28\n",
            "Aug - 507 transações - Mov.: R$410351.87 - Líq.: R$233236.81 - Ticket: R$460.03\n",
            "Sep - 457 transações - Mov.: R$1010835.09 - Líq.: R$849128.01 - Ticket: R$1858.05\n",
            "Oct - 602 transações - Mov.: R$681730.59 - Líq.: R$570293.93 - Ticket: R$947.33\n",
            "Nov - 538 transações - Mov.: R$573582.43 - Líq.: R$294697.83 - Ticket: R$547.77\n",
            "Dec - 538 transações - Mov.: R$393534.49 - Líq.: R$31795.39 - Ticket: R$59.10\n",
            "\n",
            "Ano: 2021\n",
            "Jan - 567 transações - Mov.: R$373129.03 - Líq.: R$167065.15 - Ticket: R$294.65\n",
            "Feb - 514 transações - Mov.: R$296897.24 - Líq.: R$-21816.16 - Ticket: R$-42.44\n",
            "Mar - 628 transações - Mov.: R$540651.84 - Líq.: R$283330.82 - Ticket: R$451.16\n",
            "Apr - 650 transações - Mov.: R$366104.40 - Líq.: R$36580.40 - Ticket: R$56.28\n",
            "May - 650 transações - Mov.: R$401543.50 - Líq.: R$82834.16 - Ticket: R$127.44\n",
            "Jun - 645 transações - Mov.: R$307403.64 - Líq.: R$-38104.72 - Ticket: R$-59.08\n",
            "Jul - 636 transações - Mov.: R$319392.00 - Líq.: R$33125.28 - Ticket: R$52.08\n",
            "Aug - 619 transações - Mov.: R$277148.07 - Líq.: R$36382.39 - Ticket: R$58.78\n",
            "Sep - 670 transações - Mov.: R$484972.04 - Líq.: R$94838.78 - Ticket: R$141.55\n",
            "Oct - 697 transações - Mov.: R$445703.78 - Líq.: R$190900.00 - Ticket: R$273.89\n",
            "Nov - 719 transações - Mov.: R$579197.37 - Líq.: R$73555.81 - Ticket: R$102.30\n",
            "Dec - 781 transações - Mov.: R$350305.71 - Líq.: R$38800.47 - Ticket: R$49.68\n",
            "\n",
            "Ano: 2022\n",
            "Jan - 772 transações - Mov.: R$914974.88 - Líq.: R$452345.52 - Ticket: R$585.94\n",
            "Feb - 621 transações - Mov.: R$442732.63 - Líq.: R$80682.53 - Ticket: R$129.92\n",
            "Mar - 919 transações - Mov.: R$481031.41 - Líq.: R$99584.47 - Ticket: R$108.36\n",
            "Apr - 790 transações - Mov.: R$375647.88 - Líq.: R$99934.02 - Ticket: R$126.50\n",
            "May - 825 transações - Mov.: R$885850.03 - Líq.: R$237978.53 - Ticket: R$288.46\n",
            "Jun - 807 transações - Mov.: R$335894.34 - Líq.: R$-12018.80 - Ticket: R$-14.89\n",
            "Jul - 924 transações - Mov.: R$690283.33 - Líq.: R$207592.33 - Ticket: R$224.67\n",
            "Aug - 1091 transações - Mov.: R$700022.36 - Líq.: R$315900.52 - Ticket: R$289.55\n",
            "Sep - 1231 transações - Mov.: R$1073306.23 - Líq.: R$414243.73 - Ticket: R$336.51\n",
            "Oct - 1373 transações - Mov.: R$942781.16 - Líq.: R$100150.96 - Ticket: R$72.94\n",
            "Nov - 1841 transações - Mov.: R$1726941.65 - Líq.: R$918714.63 - Ticket: R$499.03\n",
            "Dec - 25310 transações - Mov.: R$17453377.26 - Líq.: R$4794180.30 - Ticket: R$189.42\n",
            "\n",
            "Ano: 2023\n",
            "Jan - 559 transações - Mov.: R$416684.35 - Líq.: R$57191.71 - Ticket: R$102.31\n"
          ]
        }
      ],
      "source": [
        "for ano, df_ano in mensal.groupby(\"ano\"):\n",
        "    print(f\"\\nAno: {ano}\")\n",
        "    for _, r in df_ano.iterrows():\n",
        "        print(\n",
        "            f\"{r['nome_mes'][:3]} - {int(r['qtd'])} transações \"\n",
        "            f\"- Mov.: R${r['movimentacao_bruta']:.2f} \"\n",
        "            f\"- Líq.: R${r['valor_liquido']:.2f} \"\n",
        "            f\"- Ticket: R${r['ticket_medio']:.2f}\"\n",
        "        )"
      ]
    },
    {
      "cell_type": "markdown",
      "metadata": {},
      "source": [
        "##### 2: Comparativo Quantidade de Transações Fim de Semana X Dias Úteis"
      ]
    },
    {
      "cell_type": "code",
      "execution_count": 489,
      "metadata": {},
      "outputs": [
        {
          "name": "stdout",
          "output_type": "stream",
          "text": [
            "\n",
            "Quantidade de transações — Dias Úteis vs Fim de Semana:\n",
            "         periodo      qtd\n",
            "0     Dias Úteis  57185.0\n",
            "1  Fim de Semana  14814.0\n"
          ]
        }
      ],
      "source": [
        "# Criação da coluna eh_fds na dim_dates (semana: 5 = Sábado, 6 = Domingo)\n",
        "transacoes[\"data\"] = pd.to_datetime(transacoes[\"data_transacao\"], errors=\"coerce\").dt.floor(\"D\")\n",
        "dim_dates[\"eh_fds\"] = dim_dates[\"data\"].dt.dayofweek.isin([5, 6])  \n",
        "\n",
        "\n",
        "# Agregando a quantidade de transações por dia \n",
        "qtd_dia = (transacoes.groupby(\"data\", as_index=False).agg(qtd=(\"cod_transacao\",\"size\")))\n",
        "\n",
        "# Merge com o calendário diário para garantir todos os dias\n",
        "base_diaria = (dim_dates[[\"data\",\"eh_fds\"]].merge(qtd_dia, on=\"data\", how=\"left\", validate=\"1:1\").fillna({\"qtd\":0}))\n",
        "\n",
        "# Agregação por período (Dias Úteis vs Fim de Semana) e reindexação para garantir a ordem\n",
        "qtd_por_periodo = (\n",
        "    base_diaria\n",
        "      .groupby(\"eh_fds\", as_index=False)\n",
        "      .agg(qtd=(\"qtd\",\"sum\"))\n",
        "      .set_index(\"eh_fds\")\n",
        "      # False = Dias Úteis, True = Fim de Semana\n",
        "      .reindex([False, True], fill_value=0)  \n",
        "      .rename(index={False:\"Dias Úteis\", True:\"Fim de Semana\"})\n",
        "      .reset_index(names=\"periodo\")\n",
        ")\n",
        "\n",
        "print(f\"\\nQuantidade de transações — Dias Úteis vs Fim de Semana:\\n{qtd_por_periodo}\")\n"
      ]
    },
    {
      "cell_type": "markdown",
      "metadata": {},
      "source": [
        "Visualização dos Dados"
      ]
    },
    {
      "cell_type": "code",
      "execution_count": 490,
      "metadata": {},
      "outputs": [
        {
          "data": {
            "image/png": "[encoded data removed]",
            "text/plain": [
              "<Figure size 600x400 with 1 Axes>"
            ]
          },
          "metadata": {},
          "output_type": "display_data"
        }
      ],
      "source": [
        "plt.figure(figsize=(6,4))\n",
        "sns.barplot(data=qtd_por_periodo, x=\"periodo\", y=\"qtd\")\n",
        "plt.title(\"Quantidade Transações: Dias Úteis vs Fim de Semana\")\n",
        "plt.xlabel(\"Período\")\n",
        "plt.ylabel(\"Quantidade de Transações\")\n",
        "plt.tight_layout()\n",
        "plt.show()"
      ]
    },
    {
      "cell_type": "markdown",
      "metadata": {},
      "source": [
        "Inferência"
      ]
    },
    {
      "cell_type": "code",
      "execution_count": 491,
      "metadata": {},
      "outputs": [
        {
          "name": "stdout",
          "output_type": "stream",
          "text": [
            "Pode-se ver que a quantidade de transações realizadas em dias úteis é significativamente maior do que em fins de semana, com diferença de 42371.0 transações.\n"
          ]
        }
      ],
      "source": [
        "# Análise da diferença de quantidade de transações entre dias úteis e fins de semana\n",
        "q_uteis = qtd_por_periodo.loc[qtd_por_periodo[\"periodo\"]==\"Dias Úteis\",\"qtd\"].iloc[0]\n",
        "q_fds   = qtd_por_periodo.loc[qtd_por_periodo[\"periodo\"]==\"Fim de Semana\",\"qtd\"].iloc[0]\n",
        "\n",
        "diferenca_qtde_fds = q_uteis - q_fds\n",
        "\n",
        "print(f\"Pode-se ver que a quantidade de transações realizadas em dias úteis é significativamente maior do que em fins de semana, com diferença de {diferenca_qtde_fds} transações.\")"
      ]
    },
    {
      "cell_type": "markdown",
      "metadata": {},
      "source": [
        "#### =============================================================\n",
        "### 💲 Integração com Dados Externos - Cotação Dólar USD"
      ]
    },
    {
      "cell_type": "code",
      "execution_count": 492,
      "metadata": {},
      "outputs": [],
      "source": [
        "# Merge de USD diário com base calendarizada\n",
        "base_calendario = (dim_dates.merge(fx_dia, on=\"data\", how=\"left\")\n",
        "                    .merge(calendario_diario[[\"data\",\"qtd\",\"valor_liquido\",\"valor_abs\"]],\n",
        "                           on=\"data\", how=\"left\")\n",
        "                    .fillna({\"qtd\":0,\"valor_liquido\":0.0,\"valor_abs\":0.0}))"
      ]
    },
    {
      "cell_type": "code",
      "execution_count": 493,
      "metadata": {},
      "outputs": [],
      "source": [
        "# Cálculo do Retorno Diário e Volatilidade de 7 dias \n",
        "base_calendario[\"usd_ret\"] = base_calendario[\"usd_ptax\"].pct_change()\n",
        "base_calendario[\"usd_vol_7d\"] = base_calendario[\"usd_ret\"].rolling(7, min_periods=5).std()"
      ]
    },
    {
      "cell_type": "code",
      "execution_count": 494,
      "metadata": {},
      "outputs": [
        {
          "name": "stdout",
          "output_type": "stream",
          "text": [
            "corr(qtd, usd): -0.0957252139957423\n",
            "corr(mov_bruta, usd): 0.18013497039032497\n",
            "corr(qtd, vol_7d): -0.050083681192185564\n",
            "corr(mov_bruta, vol_7d): -0.05028675803637948\n",
            "\n",
            "Não há correlação forte entre câmbio e transações.\n"
          ]
        }
      ],
      "source": [
        "# Exibição das Correlações \n",
        "print(\"corr(qtd, usd):\", base_calendario[\"qtd\"].corr(base_calendario[\"usd_ptax\"]))\n",
        "print(\"corr(mov_bruta, usd):\", base_calendario[\"valor_abs\"].corr(base_calendario[\"usd_ptax\"]))\n",
        "print(\"corr(qtd, vol_7d):\", base_calendario[\"qtd\"].corr(base_calendario[\"usd_vol_7d\"]))\n",
        "print(\"corr(mov_bruta, vol_7d):\", base_calendario[\"valor_abs\"].corr(base_calendario[\"usd_vol_7d\"]))\n",
        "\n",
        "print(\"\\nNão há correlação forte entre câmbio e transações.\")"
      ]
    },
    {
      "cell_type": "markdown",
      "metadata": {},
      "source": [
        "Consolidação Mensal\n",
        "- Soma das transações\n",
        "- Valor da movimentação bruta\n",
        "- Média mensal e volatilidade do dólar (USD)"
      ]
    },
    {
      "cell_type": "code",
      "execution_count": 495,
      "metadata": {},
      "outputs": [
        {
          "name": "stdout",
          "output_type": "stream",
          "text": [
            "    ano  mes    qtd  mov_bruta  usd_medio  usd_vol_m\n",
            "0  2022    1  772.0  914974.88   5.534105   0.006075\n",
            "1  2022    2  621.0  442732.63   5.196579   0.006347\n",
            "2  2022    3  919.0  481031.41   4.968382   0.007306\n",
            "3  2022    4  790.0  375647.88   4.758016   0.010466\n",
            "4  2022    5  825.0  885850.03   4.990379   0.007845\n"
          ]
        }
      ],
      "source": [
        "mensal_calendario = (base_calendario\n",
        "                     .query(\"data >= '2022-01-01' and data <= '2023-12-31'\")\n",
        "                     .assign(ano=lambda d: d[\"data\"].dt.year,\n",
        "                             mes=lambda d: d[\"data\"].dt.month)\n",
        "                     .groupby([\"ano\",\"mes\"], as_index=False)\n",
        "                     .agg(qtd=(\"qtd\",\"sum\"),\n",
        "                          mov_bruta=(\"valor_abs\",\"sum\"),\n",
        "                          usd_medio=(\"usd_ptax\",\"mean\"),\n",
        "                          usd_vol_m=(\"usd_ret\",\"std\")))\n",
        "\n",
        "print(mensal_calendario[[\"ano\",\"mes\",\"qtd\",\"mov_bruta\",\"usd_medio\",\"usd_vol_m\"]].head())"
      ]
    },
    {
      "cell_type": "code",
      "execution_count": 496,
      "metadata": {},
      "outputs": [
        {
          "name": "stdout",
          "output_type": "stream",
          "text": [
            "999 contas únicas em transações\n",
            "999 contas únicas na base contas\n"
          ]
        }
      ],
      "source": [
        "print(transacoes[\"num_conta\"].nunique(), \"contas únicas em transações\")\n",
        "print(contas[\"num_conta\"].nunique(), \"contas únicas na base contas\")\n"
      ]
    },
    {
      "cell_type": "markdown",
      "metadata": {},
      "source": [
        "#### =============================================================\n",
        "### 📊 Dashboards (Visualizações Finais)"
      ]
    },
    {
      "cell_type": "markdown",
      "metadata": {},
      "source": [
        "#### 📈 KPIs"
      ]
    },
    {
      "cell_type": "code",
      "execution_count": 497,
      "metadata": {},
      "outputs": [
        {
          "name": "stdout",
          "output_type": "stream",
          "text": [
            "====== KPIs BANVIC ======\n",
            "\n",
            "🔹 Quantidade total de transações: 71999\n",
            "🔹 Valor total transacionado: R$25705454.40\n",
            "🔹 Valor médio das transações: R$357.03\n",
            "🔹 Taxa de aprovação de propostas de crédito: 25.70%\n",
            "🔹 Número de clientes únicos: 998\n",
            "🔹 Número de agências únicas: 10\n",
            "\n",
            "Os indicadores mostram um total de 71999 transações, com valor total de R$25705454.40 e valor médio de R$357.03 por transação.\n",
            "A taxa de aprovação de propostas de crédito é de 25.70%.\n",
            "Além disso, há 998 clientes únicos e 10 agências únicas.\n"
          ]
        }
      ],
      "source": [
        "print(\"====== KPIs BANVIC ======\\n\")\n",
        "\n",
        "# Qtde total de transações \n",
        "kpi_volume_transacoes = transacoes[\"cod_transacao\"].count()\n",
        "print(f\"🔹 Quantidade total de transações: {kpi_volume_transacoes}\")\n",
        "\n",
        "# Total de valores transacionados\n",
        "kpi_valor_total = transacoes[\"valor_transacao\"].sum()\n",
        "print(f\"🔹 Valor total transacionado: R${kpi_valor_total:.2f}\")\n",
        "\n",
        "# Valor médio das transações\n",
        "kpi_valor_medio = transacoes[\"valor_transacao\"].mean()\n",
        "print(f\"🔹 Valor médio das transações: R${round(kpi_valor_medio, 2)}\")\n",
        "\n",
        "# Taxa de aprovação de propostas de crédito (\"Aprovada\")\n",
        "kpi_taxa_aprovacao = (propostas_credito[\"status_proposta\"].value_counts(normalize=True).get(\"Aprovada\", 0)) * 100\n",
        "print(f\"🔹 Taxa de aprovação de propostas de crédito: {kpi_taxa_aprovacao:.2f}%\")\n",
        "\n",
        "# Número de clientes ÚNICOS\n",
        "kpi_clientes_unicos = clientes[\"cod_cliente\"].nunique()\n",
        "print(f\"🔹 Número de clientes únicos: {kpi_clientes_unicos}\")\n",
        "\n",
        "# Número de agências ÚNICAS\n",
        "kpi_agencias_unicas = agencias[\"cod_agencia\"].nunique()\n",
        "print(f\"🔹 Número de agências únicas: {kpi_agencias_unicas}\")\n",
        "\n",
        "print(f\"\\nOs indicadores mostram um total de {kpi_volume_transacoes} transações, com valor total de R${kpi_valor_total:.2f} e valor médio de R${round(kpi_valor_medio, 2)} por transação.\\nA taxa de aprovação de propostas de crédito é de {kpi_taxa_aprovacao:.2f}%.\\nAlém disso, há {kpi_clientes_unicos} clientes únicos e {kpi_agencias_unicas} agências únicas.\")"
      ]
    },
    {
      "cell_type": "markdown",
      "metadata": {},
      "source": [
        "#### 🏦 Análise de Agências"
      ]
    },
    {
      "cell_type": "markdown",
      "metadata": {},
      "source": [
        "##### TODO O PERIODO: Top 10 Agências com Mais Transações "
      ]
    },
    {
      "cell_type": "code",
      "execution_count": 498,
      "metadata": {},
      "outputs": [
        {
          "data": {
            "image/png": "[encoded data removed]",
            "text/plain": [
              "<Figure size 1000x500 with 1 Axes>"
            ]
          },
          "metadata": {},
          "output_type": "display_data"
        },
        {
          "name": "stdout",
          "output_type": "stream",
          "text": [
            "A agência com mais transações é Agência Digital com 33167 transações.\n",
            "A agência com menos transações entre as top 10 é Agência Recife com 374 transações.\n"
          ]
        }
      ],
      "source": [
        "top_agencias = ranking_agencias.nlargest(10, \"qtd_transacoes\")\n",
        "plt.figure(figsize=(10,5))\n",
        "sns.barplot(data=top_agencias, x=\"qtd_transacoes\", y=\"nome\", palette=\"Blues_r\")\n",
        "plt.title(\"Top 10 Agências por Quantidade de Transações\")\n",
        "plt.xlabel(\"Quantidade de Transações\")\n",
        "plt.ylabel(\"Agência\")\n",
        "plt.tight_layout()\n",
        "plt.savefig(\"../img/graficos/dash_top_agencias.png\")\n",
        "plt.show()\n",
        "\n",
        "print(f\"A agência com mais transações é {top_agencias.iloc[0]['nome']} com {top_agencias.iloc[0]['qtd_transacoes']} transações.\")\n",
        "print(f\"A agência com menos transações entre as top 10 é {top_agencias.iloc[-1]['nome']} com {top_agencias.iloc[-1]['qtd_transacoes']} transações.\")"
      ]
    },
    {
      "cell_type": "markdown",
      "metadata": {},
      "source": [
        "##### ÚLTIMOS 6 MESES: Top 10 Agências com Mais Transações"
      ]
    },
    {
      "cell_type": "code",
      "execution_count": 499,
      "metadata": {},
      "outputs": [
        {
          "data": {
            "image/png": "[encoded data removed]",
            "text/plain": [
              "<Figure size 1000x500 with 1 Axes>"
            ]
          },
          "metadata": {},
          "output_type": "display_data"
        },
        {
          "name": "stdout",
          "output_type": "stream",
          "text": [
            "A agência com mais transações nos últimos 6 meses é Agência Digital com 16806 transações.\n"
          ]
        }
      ],
      "source": [
        "top_agencias_6m = ranking_agencias_6m.nlargest(10, \"qtd_transacoes\")\n",
        "plt.figure(figsize=(10,5))\n",
        "sns.barplot(data=top_agencias_6m, x=\"qtd_transacoes\", y=\"nome\", palette=\"coolwarm\")\n",
        "plt.title(\"Top 10 Agências (Últimos 6 meses)\")\n",
        "plt.xlabel(\"Quantidade de Transações\")\n",
        "plt.ylabel(\"Agência\")\n",
        "plt.tight_layout()\n",
        "plt.savefig(\"../img/graficos/dash_top_agencias_6m.png\")\n",
        "plt.show()\n",
        "\n",
        "print(f\"A agência com mais transações nos últimos 6 meses é {top_agencias_6m.iloc[0]['nome']} com {top_agencias_6m.iloc[0]['qtd_transacoes']} transações.\")"
      ]
    },
    {
      "cell_type": "markdown",
      "metadata": {},
      "source": [
        "#### 👥  Análise dos Clientes"
      ]
    },
    {
      "cell_type": "markdown",
      "metadata": {},
      "source": [
        "Distribuição de Idade dos Clientes"
      ]
    },
    {
      "cell_type": "code",
      "execution_count": 500,
      "metadata": {},
      "outputs": [
        {
          "data": {
            "image/png": "[encoded data removed]",
            "text/plain": [
              "<Figure size 1000x500 with 1 Axes>"
            ]
          },
          "metadata": {},
          "output_type": "display_data"
        },
        {
          "name": "stdout",
          "output_type": "stream",
          "text": [
            "A maioria dos clientes aparenta estar principalmente entre 30 e 50 anos, com outro pico relevante na faixa dos 70 anos. Mediana: 51.0 anos.\n"
          ]
        }
      ],
      "source": [
        "plt.figure(figsize=(10,5))\n",
        "sns.histplot(data=clientes, x=\"idade\", bins=20, kde=True, color=\"purple\")\n",
        "plt.title(\"Distribuição de Idade dos Clientes\")\n",
        "plt.xlabel(\"Idade\")\n",
        "plt.ylabel(\"Quantidade de Clientes\")\n",
        "plt.tight_layout()\n",
        "plt.savefig(\"../img/graficos/dash_idade_clientes.png\")\n",
        "plt.show()\n",
        "\n",
        "print(f\"A maioria dos clientes aparenta estar principalmente entre 30 e 50 anos, com outro pico relevante na faixa dos 70 anos. Mediana: {clientes['idade'].median()} anos.\")"
      ]
    },
    {
      "cell_type": "markdown",
      "metadata": {},
      "source": [
        "Quantidade de Clientes por Estado"
      ]
    },
    {
      "cell_type": "code",
      "execution_count": 501,
      "metadata": {},
      "outputs": [
        {
          "data": {
            "image/png": "[encoded data removed]",
            "text/plain": [
              "<Figure size 1000x500 with 1 Axes>"
            ]
          },
          "metadata": {},
          "output_type": "display_data"
        },
        {
          "name": "stdout",
          "output_type": "stream",
          "text": [
            "O estado com mais clientes é AM com 53 clientes.\n"
          ]
        }
      ],
      "source": [
        "clientes_estado = clientes[\"estado\"].value_counts().head(10)\n",
        "plt.figure(figsize=(10,5))\n",
        "sns.barplot(x=clientes_estado.values, y=clientes_estado.index, palette=\"mako\")\n",
        "plt.title(\"Top 10 Estados com Mais Clientes\")\n",
        "plt.xlabel(\"Quantidade de Clientes\")\n",
        "plt.ylabel(\"Estado\")\n",
        "plt.tight_layout()\n",
        "plt.savefig(\"../img/graficos/dash_clientes_estado.png\")\n",
        "plt.show()\n",
        "\n",
        "print(f\"O estado com mais clientes é {clientes['estado'].value_counts().idxmax()} com {clientes['estado'].value_counts().max()} clientes.\")"
      ]
    },
    {
      "cell_type": "markdown",
      "metadata": {},
      "source": [
        "#### 💳 Análise de Contas"
      ]
    },
    {
      "cell_type": "markdown",
      "metadata": {},
      "source": [
        "Distribuição do Saldo Total"
      ]
    },
    {
      "cell_type": "code",
      "execution_count": 502,
      "metadata": {},
      "outputs": [
        {
          "data": {
            "image/png": "[encoded data removed]",
            "text/plain": [
              "<Figure size 1000x500 with 1 Axes>"
            ]
          },
          "metadata": {},
          "output_type": "display_data"
        },
        {
          "name": "stdout",
          "output_type": "stream",
          "text": [
            "O saldo médio das contas é de R$26543.41\n"
          ]
        }
      ],
      "source": [
        "plt.figure(figsize=(10,5))\n",
        "sns.histplot(contas[\"saldo_total\"], bins=30, kde=True, color=\"orange\")\n",
        "plt.title(\"Distribuição de Saldo Total das Contas\")\n",
        "plt.xlabel(\"Saldo Total (R$)\")\n",
        "plt.ylabel(\"Quantidade de Contas\")\n",
        "plt.tight_layout()\n",
        "plt.savefig(\"../img/graficos/dash_saldo_contas.png\")\n",
        "plt.show()\n",
        "\n",
        "print(f\"O saldo médio das contas é de R${contas['saldo_total'].mean():.2f}\")"
      ]
    },
    {
      "cell_type": "markdown",
      "metadata": {},
      "source": [
        "#### 💰 Análise das Propostas de Crédito"
      ]
    },
    {
      "cell_type": "markdown",
      "metadata": {},
      "source": [
        "##### Status das Propostas"
      ]
    },
    {
      "cell_type": "code",
      "execution_count": 503,
      "metadata": {},
      "outputs": [
        {
          "data": {
            "image/png": "[encoded data removed]",
            "text/plain": [
              "<Figure size 700x500 with 1 Axes>"
            ]
          },
          "metadata": {},
          "output_type": "display_data"
        },
        {
          "name": "stdout",
          "output_type": "stream",
          "text": [
            "A taxa de aprovação das propostas de crédito é de 25.70%\n"
          ]
        }
      ],
      "source": [
        "plt.figure(figsize=(7,5))\n",
        "sns.countplot(data=propostas_credito, x=\"status_proposta\", palette=\"Set2\")\n",
        "plt.title(\"Status das Propostas de Crédito\")\n",
        "plt.xlabel(\"Status\")\n",
        "plt.ylabel(\"Quantidade\")\n",
        "plt.tight_layout()\n",
        "plt.savefig(\"../img/graficos/dash_status_propostas.png\")\n",
        "plt.show()\n",
        "\n",
        "print(f\"A taxa de aprovação das propostas de crédito é de {kpi_taxa_aprovacao:.2f}%\")"
      ]
    },
    {
      "cell_type": "markdown",
      "metadata": {},
      "source": [
        "##### Distribuição do Valor das Propostas"
      ]
    },
    {
      "cell_type": "code",
      "execution_count": 504,
      "metadata": {},
      "outputs": [
        {
          "data": {
            "image/png": "[encoded data removed]",
            "text/plain": [
              "<Figure size 1000x500 with 1 Axes>"
            ]
          },
          "metadata": {},
          "output_type": "display_data"
        },
        {
          "name": "stdout",
          "output_type": "stream",
          "text": [
            "O valor médio das propostas é de R$83890.49\n",
            "A moda das propostas é de R$944.01\n"
          ]
        }
      ],
      "source": [
        "plt.figure(figsize=(10,5))\n",
        "sns.histplot(propostas_credito[\"valor_proposta\"], bins=30, kde=True, color=\"skyblue\")\n",
        "plt.title(\"Distribuição dos Valores das Propostas de Crédito\")\n",
        "plt.xlabel(\"Valor da Proposta (R$)\")\n",
        "plt.ylabel(\"Quantidade de Propostas\")\n",
        "plt.tight_layout()\n",
        "plt.savefig(\"../img/graficos/dash_valor_propostas.png\")\n",
        "plt.show()\n",
        "\n",
        "print(f\"O valor médio das propostas é de R${propostas_credito['valor_proposta'].mean():.2f}\")\n",
        "print(f\"A moda das propostas é de R${propostas_credito['valor_proposta'].mode()[0]:.2f}\")"
      ]
    },
    {
      "cell_type": "markdown",
      "metadata": {},
      "source": [
        "#### 💵 Análise das Transações"
      ]
    },
    {
      "cell_type": "markdown",
      "metadata": {},
      "source": [
        "##### Quantidade de Transações por Mês"
      ]
    },
    {
      "cell_type": "code",
      "execution_count": 505,
      "metadata": {},
      "outputs": [],
      "source": [
        "mapa_meses = {\n",
        "    \"January\": \"Janeiro\", \"February\": \"Fevereiro\", \"March\": \"Março\",\n",
        "    \"April\": \"Abril\", \"May\": \"Maio\", \"June\": \"Junho\",\n",
        "    \"July\": \"Julho\", \"August\": \"Agosto\", \"September\": \"Setembro\",\n",
        "    \"October\": \"Outubro\", \"November\": \"Novembro\", \"December\": \"Dezembro\"\n",
        "}\n",
        "\n",
        "mensal[\"nome_mes\"] = mensal[\"nome_mes\"].replace(mapa_meses)"
      ]
    },
    {
      "cell_type": "code",
      "execution_count": 516,
      "metadata": {},
      "outputs": [
        {
          "data": {
            "image/png": "[encoded data removed]",
            "text/plain": [
              "<Figure size 700x300 with 1 Axes>"
            ]
          },
          "metadata": {},
          "output_type": "display_data"
        },
        {
          "name": "stdout",
          "output_type": "stream",
          "text": [
            "O mês com mais transaçõs foi Dezembro de 2022 com 25310.0 transações.\n"
          ]
        }
      ],
      "source": [
        "plt.figure(figsize=(7,3))\n",
        "sns.lineplot(data=mensal, x=\"nome_mes\", y=\"qtd\", hue=\"ano\", marker=\"o\")\n",
        "plt.title(\"Quantidade de Transações por Mês\")\n",
        "plt.xlabel(\"Mês\")\n",
        "plt.ylabel(\"Quantidade\")\n",
        "plt.xticks(rotation=45)\n",
        "plt.tight_layout()\n",
        "plt.savefig(\"../img/graficos/dash_transacoes_mes.png\")\n",
        "plt.show()\n",
        "\n",
        "print(f\"O mês com mais transaçõs foi {mensal.loc[mensal['qtd'].idxmax()]['nome_mes']} de {mensal.loc[mensal['qtd'].idxmax()]['ano']} com {mensal['qtd'].max()} transações.\")"
      ]
    },
    {
      "cell_type": "markdown",
      "metadata": {},
      "source": [
        "##### Transações Aprovadas por Dia da Semana"
      ]
    },
    {
      "cell_type": "code",
      "execution_count": 523,
      "metadata": {},
      "outputs": [
        {
          "data": {
            "image/png": "[encoded data removed]",
            "text/plain": [
              "<Figure size 600x300 with 1 Axes>"
            ]
          },
          "metadata": {},
          "output_type": "display_data"
        },
        {
          "name": "stdout",
          "output_type": "stream",
          "text": [
            "O dia da semana com maior quantidade de transações aprovadas é Quinta-feira com 13914 transações.\n"
          ]
        }
      ],
      "source": [
        "plt.figure(figsize=(6,3))\n",
        "sns.barplot(x=qtd_transacoes_aprov_dia.index, y=qtd_transacoes_aprov_dia.values, palette=\"pastel\", width=0.5)\n",
        "plt.title(\"Quantidade de Transações Aprovadas por Dia da Semana\")\n",
        "plt.xlabel(\"Dia da Semana\")\n",
        "plt.ylabel(\"Quantidade\")\n",
        "plt.xticks(rotation=45)\n",
        "plt.tight_layout()\n",
        "plt.savefig(\"../img/graficos/dash_transacoes_semana.png\")\n",
        "plt.show()\n",
        "\n",
        "print(f\"O dia da semana com maior quantidade de transações aprovadas é {qtd_transacoes_aprov_dia.idxmax()} com {qtd_transacoes_aprov_dia.max()} transações.\")\n"
      ]
    },
    {
      "cell_type": "markdown",
      "metadata": {},
      "source": [
        "##### Comparativo: Qtde de Transações Dias Úteis X Fim de Semana"
      ]
    },
    {
      "cell_type": "code",
      "execution_count": 525,
      "metadata": {},
      "outputs": [
        {
          "data": {
            "image/png": "[encoded data removed]",
            "text/plain": [
              "<Figure size 500x300 with 1 Axes>"
            ]
          },
          "metadata": {},
          "output_type": "display_data"
        },
        {
          "name": "stdout",
          "output_type": "stream",
          "text": [
            "Pode-se ver que a quantidade de transações realizadas em dias úteis é significativamente maior do que em fins de semana, com diferença de 42371.0 transações.\n"
          ]
        }
      ],
      "source": [
        "plt.figure(figsize=(5,3))\n",
        "sns.barplot(data=qtd_por_periodo, x=\"periodo\", y=\"qtd\", palette=\"muted\", width=0.5)\n",
        "plt.title(\"Transações: Dias Úteis vs Fim de Semana\")\n",
        "plt.xlabel(\"Período\")\n",
        "plt.ylabel(\"Quantidade\")\n",
        "plt.tight_layout()\n",
        "plt.savefig(\"../img/graficos/dash_fds_vs_uteis.png\")\n",
        "plt.show()\n",
        "\n",
        "print(f\"Pode-se ver que a quantidade de transações realizadas em dias úteis é significativamente maior do que em fins de semana, com diferença de {diferenca_qtde_fds} transações.\")"
      ]
    },
    {
      "cell_type": "markdown",
      "metadata": {},
      "source": [
        "#### 💲 Análise Cotação do Dólar USD"
      ]
    },
    {
      "cell_type": "markdown",
      "metadata": {},
      "source": [
        " Correlação câmbio com a movimentação bruta"
      ]
    },
    {
      "cell_type": "code",
      "execution_count": 509,
      "metadata": {},
      "outputs": [
        {
          "data": {
            "image/png": "[encoded data removed]",
            "text/plain": [
              "<Figure size 800x500 with 1 Axes>"
            ]
          },
          "metadata": {},
          "output_type": "display_data"
        },
        {
          "name": "stdout",
          "output_type": "stream",
          "text": [
            "Pode-se observar que não há uma correlação forte entre a cotação do dólar e a movimentação bruta diária. Isso sugere que outros fatores além do câmbio influenciam o volume de transações no banco.\n"
          ]
        }
      ],
      "source": [
        "plt.figure(figsize=(8,5))\n",
        "sns.scatterplot(data=base_calendario, x=\"usd_ptax\", y=\"valor_abs\", alpha=0.6)\n",
        "plt.title(\"Câmbio x Movimentação Bruta\")\n",
        "plt.xlabel(\"Cotação USD (R$)\")\n",
        "plt.ylabel(\"Movimentação Bruta (R$)\")\n",
        "plt.tight_layout()\n",
        "plt.savefig(\"../img/graficos/dash_cambio_mov.png\")\n",
        "plt.show()\n",
        "\n",
        "print(\"Pode-se observar que não há uma correlação forte entre a cotação do dólar e a movimentação bruta diária. Isso sugere que outros fatores além do câmbio influenciam o volume de transações no banco.\")"
      ]
    },
    {
      "cell_type": "code",
      "execution_count": null,
      "metadata": {},
      "outputs": [],
      "source": []
    }
  ],
  "metadata": {
    "colab": {
      "provenance": []
    },
    "kernelspec": {
      "display_name": "Python 3",
      "name": "python3"
    },
    "language_info": {
      "codemirror_mode": {
        "name": "ipython",
        "version": 3
      },
      "file_extension": ".py",
      "mimetype": "text/x-python",
      "name": "python",
      "nbconvert_exporter": "python",
      "pygments_lexer": "ipython3",
      "version": "3.12.10"
    }
  },
  "nbformat": 4,
  "nbformat_minor": 0
}
